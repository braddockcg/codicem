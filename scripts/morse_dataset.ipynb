{
 "cells": [
  {
   "cell_type": "code",
   "execution_count": 27,
   "id": "initial_id",
   "metadata": {
    "collapsed": true,
    "ExecuteTime": {
     "end_time": "2024-03-13T00:34:17.647278837Z",
     "start_time": "2024-03-13T00:34:17.245651881Z"
    }
   },
   "outputs": [],
   "source": [
    "# Looking at the morse-dataset from Sourya Dey at https://github.com/souryadey/morse-dataset\n",
    "import sys\n",
    "import os\n",
    "import numpy as np\n",
    "import matplotlib.pyplot as plt\n",
    "\n",
    "sys.path.append(\"../../morse-dataset\")\n",
    "\n",
    "from load_data import load_data"
   ]
  },
  {
   "cell_type": "code",
   "execution_count": 22,
   "outputs": [],
   "source": [
    "(xtr, ytr, xva, yva, xte, yte) = load_data('../../morse-dataset/baseline.npz')\n",
    "codebook = np.load('../../morse-dataset/Codebook.npy', allow_pickle=True)"
   ],
   "metadata": {
    "collapsed": false,
    "ExecuteTime": {
     "end_time": "2024-03-13T00:31:16.362627980Z",
     "start_time": "2024-03-13T00:31:15.458187361Z"
    }
   },
   "id": "f39f5059c3a8f2a1"
  },
  {
   "cell_type": "code",
   "execution_count": 17,
   "outputs": [
    {
     "data": {
      "text/plain": "(64, 64)"
     },
     "execution_count": 17,
     "metadata": {},
     "output_type": "execute_result"
    }
   ],
   "source": [
    "len(xte[0]), len(yte[0])"
   ],
   "metadata": {
    "collapsed": false,
    "ExecuteTime": {
     "end_time": "2024-03-13T00:29:31.559870144Z",
     "start_time": "2024-03-13T00:29:31.510921301Z"
    }
   },
   "id": "77348f5a6d6534a2"
  },
  {
   "cell_type": "code",
   "execution_count": 23,
   "outputs": [
    {
     "data": {
      "text/plain": "array({'J^': '.---.', 'H^': '-.--.', 'N~': '--.--', 'CH': '----', 'G^': '--.-.', '!': '-.-.--', '\"': '.-..-.', \"'\": '.----.', 'C,': '-.-..', ')': '-.--.-', '(': '-.--.', '+': '.-.-.', '-': '-....-', ',': '--..--', '/': '-..-.', '.': '.-.-.-', '1': '.----', '0': '-----', '3': '...--', '2': '..---', '5': '.....', '4': '....-', '7': '--...', '6': '-....', '9': '----.', '8': '---..', ';': '-.-.-.', ':': '---...', '=': '-...-', '?': '..--..', 'A': '.-', '@': '.--.-.', 'C': '-.-.', 'B': '-...', 'E': '.', 'D': '-..', 'G': '--.', 'F': '..-.', 'I': '..', 'H': '....', 'K': '-.-', 'J': '.---', 'M': '--', 'L': '.-..', 'O': '---', 'N': '-.', 'Q': '--.-', 'S': '...', 'U': '..-', 'T': '-', 'W': '.--', 'V': '...-', 'Y': '-.--', 'X': '-..-', 'Z': '--..', '_': '..--.-', 'U..': '..--', 'D-': '..--.', 'O..': '---.', 'S^': '...-.', 'P': '.--.', 'A..': '.-.-', 'E`': '..-..', 'R': '.-.'},\n      dtype=object)"
     },
     "execution_count": 23,
     "metadata": {},
     "output_type": "execute_result"
    }
   ],
   "source": [
    "codebook"
   ],
   "metadata": {
    "collapsed": false,
    "ExecuteTime": {
     "end_time": "2024-03-13T00:31:26.569033624Z",
     "start_time": "2024-03-13T00:31:26.520330989Z"
    }
   },
   "id": "3f63fc73947a3750"
  },
  {
   "cell_type": "code",
   "execution_count": 46,
   "outputs": [
    {
     "data": {
      "text/plain": "(';', '-.-.-.')"
     },
     "execution_count": 46,
     "metadata": {},
     "output_type": "execute_result"
    },
    {
     "data": {
      "text/plain": "<Figure size 640x480 with 1 Axes>",
      "image/png": "[encoded data removed]"
     },
     "metadata": {},
     "output_type": "display_data"
    }
   ],
   "source": [
    "idx = 32\n",
    "plt.imshow(xte[idx].reshape(1, -1))\n",
    "list(codebook.item().items())[np.argmax(yte[idx])]"
   ],
   "metadata": {
    "collapsed": false,
    "ExecuteTime": {
     "end_time": "2024-03-13T00:41:04.623735691Z",
     "start_time": "2024-03-13T00:41:04.515178883Z"
    }
   },
   "id": "e0bbdbff11c07f11"
  },
  {
   "cell_type": "code",
   "execution_count": 39,
   "outputs": [
    {
     "data": {
      "text/plain": "'.---.'"
     },
     "execution_count": 39,
     "metadata": {},
     "output_type": "execute_result"
    }
   ],
   "source": [
    "list(codebook.item().values())[0]"
   ],
   "metadata": {
    "collapsed": false,
    "ExecuteTime": {
     "end_time": "2024-03-13T00:38:23.042978190Z",
     "start_time": "2024-03-13T00:38:22.991466803Z"
    }
   },
   "id": "6a508e394357875e"
  },
  {
   "cell_type": "code",
   "execution_count": 47,
   "outputs": [
    {
     "data": {
      "text/plain": "[(0, ('J^', '.---.')),\n (1, ('H^', '-.--.')),\n (2, ('N~', '--.--')),\n (3, ('CH', '----')),\n (4, ('G^', '--.-.')),\n (5, ('!', '-.-.--')),\n (6, ('\"', '.-..-.')),\n (7, (\"'\", '.----.')),\n (8, ('C,', '-.-..')),\n (9, (')', '-.--.-')),\n (10, ('(', '-.--.')),\n (11, ('+', '.-.-.')),\n (12, ('-', '-....-')),\n (13, (',', '--..--')),\n (14, ('/', '-..-.')),\n (15, ('.', '.-.-.-')),\n (16, ('1', '.----')),\n (17, ('0', '-----')),\n (18, ('3', '...--')),\n (19, ('2', '..---')),\n (20, ('5', '.....')),\n (21, ('4', '....-')),\n (22, ('7', '--...')),\n (23, ('6', '-....')),\n (24, ('9', '----.')),\n (25, ('8', '---..')),\n (26, (';', '-.-.-.')),\n (27, (':', '---...')),\n (28, ('=', '-...-')),\n (29, ('?', '..--..')),\n (30, ('A', '.-')),\n (31, ('@', '.--.-.')),\n (32, ('C', '-.-.')),\n (33, ('B', '-...')),\n (34, ('E', '.')),\n (35, ('D', '-..')),\n (36, ('G', '--.')),\n (37, ('F', '..-.')),\n (38, ('I', '..')),\n (39, ('H', '....')),\n (40, ('K', '-.-')),\n (41, ('J', '.---')),\n (42, ('M', '--')),\n (43, ('L', '.-..')),\n (44, ('O', '---')),\n (45, ('N', '-.')),\n (46, ('Q', '--.-')),\n (47, ('S', '...')),\n (48, ('U', '..-')),\n (49, ('T', '-')),\n (50, ('W', '.--')),\n (51, ('V', '...-')),\n (52, ('Y', '-.--')),\n (53, ('X', '-..-')),\n (54, ('Z', '--..')),\n (55, ('_', '..--.-')),\n (56, ('U..', '..--')),\n (57, ('D-', '..--.')),\n (58, ('O..', '---.')),\n (59, ('S^', '...-.')),\n (60, ('P', '.--.')),\n (61, ('A..', '.-.-')),\n (62, ('E`', '..-..')),\n (63, ('R', '.-.'))]"
     },
     "execution_count": 47,
     "metadata": {},
     "output_type": "execute_result"
    }
   ],
   "source": [
    "list(enumerate(codebook.item().items()))"
   ],
   "metadata": {
    "collapsed": false,
    "ExecuteTime": {
     "end_time": "2024-03-13T00:50:21.575983807Z",
     "start_time": "2024-03-13T00:50:21.475437833Z"
    }
   },
   "id": "e23c9df5b70043c8"
  },
  {
   "cell_type": "code",
   "execution_count": null,
   "outputs": [],
   "source": [],
   "metadata": {
    "collapsed": false
   },
   "id": "184ee574bd25ead3"
  }
 ],
 "metadata": {
  "kernelspec": {
   "display_name": "Python 3",
   "language": "python",
   "name": "python3"
  },
  "language_info": {
   "codemirror_mode": {
    "name": "ipython",
    "version": 2
   },
   "file_extension": ".py",
   "mimetype": "text/x-python",
   "name": "python",
   "nbconvert_exporter": "python",
   "pygments_lexer": "ipython2",
   "version": "2.7.6"
  }
 },
 "nbformat": 4,
 "nbformat_minor": 5
}
