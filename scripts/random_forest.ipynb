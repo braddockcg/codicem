{
 "cells": [
  {
   "cell_type": "code",
   "execution_count": 1,
   "id": "initial_id",
   "metadata": {
    "collapsed": true,
    "ExecuteTime": {
     "end_time": "2024-03-12T21:42:31.235451950Z",
     "start_time": "2024-03-12T21:42:27.494206117Z"
    }
   },
   "outputs": [
    {
     "name": "stderr",
     "output_type": "stream",
     "text": [
      "2024-03-12 14:42:29.373808: E external/local_xla/xla/stream_executor/cuda/cuda_dnn.cc:9261] Unable to register cuDNN factory: Attempting to register factory for plugin cuDNN when one has already been registered\n",
      "2024-03-12 14:42:29.373840: E external/local_xla/xla/stream_executor/cuda/cuda_fft.cc:607] Unable to register cuFFT factory: Attempting to register factory for plugin cuFFT when one has already been registered\n",
      "2024-03-12 14:42:29.374839: E external/local_xla/xla/stream_executor/cuda/cuda_blas.cc:1515] Unable to register cuBLAS factory: Attempting to register factory for plugin cuBLAS when one has already been registered\n",
      "2024-03-12 14:42:29.382234: I tensorflow/core/platform/cpu_feature_guard.cc:182] This TensorFlow binary is optimized to use available CPU instructions in performance-critical operations.\n",
      "To enable the following instructions: AVX2 FMA, in other operations, rebuild TensorFlow with the appropriate compiler flags.\n",
      "2024-03-12 14:42:30.464096: W tensorflow/compiler/tf2tensorrt/utils/py_utils.cc:38] TF-TRT Warning: Could not find TensorRT\n"
     ]
    }
   ],
   "source": [
    "#from sklearn.mixture import GaussianMixture\n",
    "from sklearn.ensemble import RandomForestClassifier\n",
    "import numpy as np\n",
    "import joblib\n",
    "from typing import List, Tuple\n",
    "from copy import copy, deepcopy\n",
    "import matplotlib.pyplot as plt\n",
    "import sys\n",
    "\n",
    "from codicem.timings_type import *\n",
    "from codicem.util import *\n",
    "from codicem.experiment import *\n",
    "from codicem.morsenet import MorseNet\n"
   ]
  },
  {
   "cell_type": "code",
   "execution_count": 2,
   "outputs": [
    {
     "data": {
      "text/plain": "(20000, 2000)"
     },
     "execution_count": 2,
     "metadata": {},
     "output_type": "execute_result"
    }
   ],
   "source": [
    "train, _ = load_timings_set(\"/home/braddock/expire/morse/new-train\", num_sets=20000)\n",
    "test, _ = load_timings_set(\"/home/braddock/expire/morse/new-test\")\n",
    "(len(train), len(test))"
   ],
   "metadata": {
    "collapsed": false,
    "ExecuteTime": {
     "end_time": "2024-03-12T21:42:33.190491651Z",
     "start_time": "2024-03-12T21:42:31.432873028Z"
    }
   },
   "id": "2e423f3a011f045f"
  },
  {
   "cell_type": "code",
   "execution_count": 3,
   "outputs": [],
   "source": [
    "# net = MorseNet()  # Only instantiating for normalization function\n",
    "# train = [net.normalize(t) for t in train]\n",
    "# test = [net.normalize(t) for t in test]"
   ],
   "metadata": {
    "collapsed": false,
    "ExecuteTime": {
     "end_time": "2024-03-12T21:42:33.195245868Z",
     "start_time": "2024-03-12T21:42:33.193084403Z"
    }
   },
   "id": "c245682f759a8859"
  },
  {
   "cell_type": "code",
   "execution_count": 3,
   "outputs": [],
   "source": [
    "\n",
    "\n",
    "\n",
    "    \n"
   ],
   "metadata": {
    "collapsed": false,
    "ExecuteTime": {
     "end_time": "2024-03-12T21:42:33.208674224Z",
     "start_time": "2024-03-12T21:42:33.196689740Z"
    }
   },
   "id": "cc947fb52e63bd1e"
  },
  {
   "cell_type": "code",
   "execution_count": 4,
   "outputs": [],
   "source": [
    "X_marks, labels_marks, _ = prep_data_for_ml(train, True)\n",
    "X_spaces, labels_spaces, labels_word_spaces = prep_data_for_ml(train, False)"
   ],
   "metadata": {
    "collapsed": false,
    "ExecuteTime": {
     "end_time": "2024-03-12T21:42:33.665638533Z",
     "start_time": "2024-03-12T21:42:33.202978922Z"
    }
   },
   "id": "b60e133a7272e13b"
  },
  {
   "cell_type": "code",
   "execution_count": 4,
   "outputs": [],
   "source": [],
   "metadata": {
    "collapsed": false,
    "ExecuteTime": {
     "end_time": "2024-03-12T21:42:33.669576983Z",
     "start_time": "2024-03-12T21:42:33.666089696Z"
    }
   },
   "id": "18d59b1aaf51f58c"
  },
  {
   "cell_type": "code",
   "execution_count": 5,
   "outputs": [],
   "source": [
    "rf_marks = RandomForestClassifier(n_estimators=10)\n",
    "rf_spaces = RandomForestClassifier(n_estimators=10)\n",
    "# A separate classifier is used for word spaces because they are rare\n",
    "# and are usually miscategorized by the rf_spaces model\n",
    "# NOTE THIS DOES NOT WORK, IT NEVER LEARNS THE 2% OF TIMINGS THAT ARE WORD SPACES\n",
    "# RETURNING PREDICTIONS OF ALL ZERO MAYBE IT IS A TRAIN DATA PROBLEM\n",
    "rf_word_spaces = RandomForestClassifier(n_estimators=10)"
   ],
   "metadata": {
    "collapsed": false,
    "ExecuteTime": {
     "end_time": "2024-03-12T21:42:33.688199039Z",
     "start_time": "2024-03-12T21:42:33.673235446Z"
    }
   },
   "id": "df717ed31290577b"
  },
  {
   "cell_type": "code",
   "execution_count": 6,
   "outputs": [
    {
     "data": {
      "text/plain": "RandomForestClassifier(n_estimators=10)",
      "text/html": "<style>#sk-container-id-1 {\n  /* Definition of color scheme common for light and dark mode */\n  --sklearn-color-text: black;\n  --sklearn-color-line: gray;\n  /* Definition of color scheme for unfitted estimators */\n  --sklearn-color-unfitted-level-0: #fff5e6;\n  --sklearn-color-unfitted-level-1: #f6e4d2;\n  --sklearn-color-unfitted-level-2: #ffe0b3;\n  --sklearn-color-unfitted-level-3: chocolate;\n  /* Definition of color scheme for fitted estimators */\n  --sklearn-color-fitted-level-0: #f0f8ff;\n  --sklearn-color-fitted-level-1: #d4ebff;\n  --sklearn-color-fitted-level-2: #b3dbfd;\n  --sklearn-color-fitted-level-3: cornflowerblue;\n\n  /* Specific color for light theme */\n  --sklearn-color-text-on-default-background: var(--sg-text-color, var(--theme-code-foreground, var(--jp-content-font-color1, black)));\n  --sklearn-color-background: var(--sg-background-color, var(--theme-background, var(--jp-layout-color0, white)));\n  --sklearn-color-border-box: var(--sg-text-color, var(--theme-code-foreground, var(--jp-content-font-color1, black)));\n  --sklearn-color-icon: #696969;\n\n  @media (prefers-color-scheme: dark) {\n    /* Redefinition of color scheme for dark theme */\n    --sklearn-color-text-on-default-background: var(--sg-text-color, var(--theme-code-foreground, var(--jp-content-font-color1, white)));\n    --sklearn-color-background: var(--sg-background-color, var(--theme-background, var(--jp-layout-color0, #111)));\n    --sklearn-color-border-box: var(--sg-text-color, var(--theme-code-foreground, var(--jp-content-font-color1, white)));\n    --sklearn-color-icon: #878787;\n  }\n}\n\n#sk-container-id-1 {\n  color: var(--sklearn-color-text);\n}\n\n#sk-container-id-1 pre {\n  padding: 0;\n}\n\n#sk-container-id-1 input.sk-hidden--visually {\n  border: 0;\n  clip: rect(1px 1px 1px 1px);\n  clip: rect(1px, 1px, 1px, 1px);\n  height: 1px;\n  margin: -1px;\n  overflow: hidden;\n  padding: 0;\n  position: absolute;\n  width: 1px;\n}\n\n#sk-container-id-1 div.sk-dashed-wrapped {\n  border: 1px dashed var(--sklearn-color-line);\n  margin: 0 0.4em 0.5em 0.4em;\n  box-sizing: border-box;\n  padding-bottom: 0.4em;\n  background-color: var(--sklearn-color-background);\n}\n\n#sk-container-id-1 div.sk-container {\n  /* jupyter's `normalize.less` sets `[hidden] { display: none; }`\n     but bootstrap.min.css set `[hidden] { display: none !important; }`\n     so we also need the `!important` here to be able to override the\n     default hidden behavior on the sphinx rendered scikit-learn.org.\n     See: https://github.com/scikit-learn/scikit-learn/issues/21755 */\n  display: inline-block !important;\n  position: relative;\n}\n\n#sk-container-id-1 div.sk-text-repr-fallback {\n  display: none;\n}\n\ndiv.sk-parallel-item,\ndiv.sk-serial,\ndiv.sk-item {\n  /* draw centered vertical line to link estimators */\n  background-image: linear-gradient(var(--sklearn-color-text-on-default-background), var(--sklearn-color-text-on-default-background));\n  background-size: 2px 100%;\n  background-repeat: no-repeat;\n  background-position: center center;\n}\n\n/* Parallel-specific style estimator block */\n\n#sk-container-id-1 div.sk-parallel-item::after {\n  content: \"\";\n  width: 100%;\n  border-bottom: 2px solid var(--sklearn-color-text-on-default-background);\n  flex-grow: 1;\n}\n\n#sk-container-id-1 div.sk-parallel {\n  display: flex;\n  align-items: stretch;\n  justify-content: center;\n  background-color: var(--sklearn-color-background);\n  position: relative;\n}\n\n#sk-container-id-1 div.sk-parallel-item {\n  display: flex;\n  flex-direction: column;\n}\n\n#sk-container-id-1 div.sk-parallel-item:first-child::after {\n  align-self: flex-end;\n  width: 50%;\n}\n\n#sk-container-id-1 div.sk-parallel-item:last-child::after {\n  align-self: flex-start;\n  width: 50%;\n}\n\n#sk-container-id-1 div.sk-parallel-item:only-child::after {\n  width: 0;\n}\n\n/* Serial-specific style estimator block */\n\n#sk-container-id-1 div.sk-serial {\n  display: flex;\n  flex-direction: column;\n  align-items: center;\n  background-color: var(--sklearn-color-background);\n  padding-right: 1em;\n  padding-left: 1em;\n}\n\n\n/* Toggleable style: style used for estimator/Pipeline/ColumnTransformer box that is\nclickable and can be expanded/collapsed.\n- Pipeline and ColumnTransformer use this feature and define the default style\n- Estimators will overwrite some part of the style using the `sk-estimator` class\n*/\n\n/* Pipeline and ColumnTransformer style (default) */\n\n#sk-container-id-1 div.sk-toggleable {\n  /* Default theme specific background. It is overwritten whether we have a\n  specific estimator or a Pipeline/ColumnTransformer */\n  background-color: var(--sklearn-color-background);\n}\n\n/* Toggleable label */\n#sk-container-id-1 label.sk-toggleable__label {\n  cursor: pointer;\n  display: block;\n  width: 100%;\n  margin-bottom: 0;\n  padding: 0.5em;\n  box-sizing: border-box;\n  text-align: center;\n}\n\n#sk-container-id-1 label.sk-toggleable__label-arrow:before {\n  /* Arrow on the left of the label */\n  content: \"▸\";\n  float: left;\n  margin-right: 0.25em;\n  color: var(--sklearn-color-icon);\n}\n\n#sk-container-id-1 label.sk-toggleable__label-arrow:hover:before {\n  color: var(--sklearn-color-text);\n}\n\n/* Toggleable content - dropdown */\n\n#sk-container-id-1 div.sk-toggleable__content {\n  max-height: 0;\n  max-width: 0;\n  overflow: hidden;\n  text-align: left;\n  /* unfitted */\n  background-color: var(--sklearn-color-unfitted-level-0);\n}\n\n#sk-container-id-1 div.sk-toggleable__content.fitted {\n  /* fitted */\n  background-color: var(--sklearn-color-fitted-level-0);\n}\n\n#sk-container-id-1 div.sk-toggleable__content pre {\n  margin: 0.2em;\n  border-radius: 0.25em;\n  color: var(--sklearn-color-text);\n  /* unfitted */\n  background-color: var(--sklearn-color-unfitted-level-0);\n}\n\n#sk-container-id-1 div.sk-toggleable__content.fitted pre {\n  /* unfitted */\n  background-color: var(--sklearn-color-fitted-level-0);\n}\n\n#sk-container-id-1 input.sk-toggleable__control:checked~div.sk-toggleable__content {\n  /* Expand drop-down */\n  max-height: 200px;\n  max-width: 100%;\n  overflow: auto;\n}\n\n#sk-container-id-1 input.sk-toggleable__control:checked~label.sk-toggleable__label-arrow:before {\n  content: \"▾\";\n}\n\n/* Pipeline/ColumnTransformer-specific style */\n\n#sk-container-id-1 div.sk-label input.sk-toggleable__control:checked~label.sk-toggleable__label {\n  color: var(--sklearn-color-text);\n  background-color: var(--sklearn-color-unfitted-level-2);\n}\n\n#sk-container-id-1 div.sk-label.fitted input.sk-toggleable__control:checked~label.sk-toggleable__label {\n  background-color: var(--sklearn-color-fitted-level-2);\n}\n\n/* Estimator-specific style */\n\n/* Colorize estimator box */\n#sk-container-id-1 div.sk-estimator input.sk-toggleable__control:checked~label.sk-toggleable__label {\n  /* unfitted */\n  background-color: var(--sklearn-color-unfitted-level-2);\n}\n\n#sk-container-id-1 div.sk-estimator.fitted input.sk-toggleable__control:checked~label.sk-toggleable__label {\n  /* fitted */\n  background-color: var(--sklearn-color-fitted-level-2);\n}\n\n#sk-container-id-1 div.sk-label label.sk-toggleable__label,\n#sk-container-id-1 div.sk-label label {\n  /* The background is the default theme color */\n  color: var(--sklearn-color-text-on-default-background);\n}\n\n/* On hover, darken the color of the background */\n#sk-container-id-1 div.sk-label:hover label.sk-toggleable__label {\n  color: var(--sklearn-color-text);\n  background-color: var(--sklearn-color-unfitted-level-2);\n}\n\n/* Label box, darken color on hover, fitted */\n#sk-container-id-1 div.sk-label.fitted:hover label.sk-toggleable__label.fitted {\n  color: var(--sklearn-color-text);\n  background-color: var(--sklearn-color-fitted-level-2);\n}\n\n/* Estimator label */\n\n#sk-container-id-1 div.sk-label label {\n  font-family: monospace;\n  font-weight: bold;\n  display: inline-block;\n  line-height: 1.2em;\n}\n\n#sk-container-id-1 div.sk-label-container {\n  text-align: center;\n}\n\n/* Estimator-specific */\n#sk-container-id-1 div.sk-estimator {\n  font-family: monospace;\n  border: 1px dotted var(--sklearn-color-border-box);\n  border-radius: 0.25em;\n  box-sizing: border-box;\n  margin-bottom: 0.5em;\n  /* unfitted */\n  background-color: var(--sklearn-color-unfitted-level-0);\n}\n\n#sk-container-id-1 div.sk-estimator.fitted {\n  /* fitted */\n  background-color: var(--sklearn-color-fitted-level-0);\n}\n\n/* on hover */\n#sk-container-id-1 div.sk-estimator:hover {\n  /* unfitted */\n  background-color: var(--sklearn-color-unfitted-level-2);\n}\n\n#sk-container-id-1 div.sk-estimator.fitted:hover {\n  /* fitted */\n  background-color: var(--sklearn-color-fitted-level-2);\n}\n\n/* Specification for estimator info (e.g. \"i\" and \"?\") */\n\n/* Common style for \"i\" and \"?\" */\n\n.sk-estimator-doc-link,\na:link.sk-estimator-doc-link,\na:visited.sk-estimator-doc-link {\n  float: right;\n  font-size: smaller;\n  line-height: 1em;\n  font-family: monospace;\n  background-color: var(--sklearn-color-background);\n  border-radius: 1em;\n  height: 1em;\n  width: 1em;\n  text-decoration: none !important;\n  margin-left: 1ex;\n  /* unfitted */\n  border: var(--sklearn-color-unfitted-level-1) 1pt solid;\n  color: var(--sklearn-color-unfitted-level-1);\n}\n\n.sk-estimator-doc-link.fitted,\na:link.sk-estimator-doc-link.fitted,\na:visited.sk-estimator-doc-link.fitted {\n  /* fitted */\n  border: var(--sklearn-color-fitted-level-1) 1pt solid;\n  color: var(--sklearn-color-fitted-level-1);\n}\n\n/* On hover */\ndiv.sk-estimator:hover .sk-estimator-doc-link:hover,\n.sk-estimator-doc-link:hover,\ndiv.sk-label-container:hover .sk-estimator-doc-link:hover,\n.sk-estimator-doc-link:hover {\n  /* unfitted */\n  background-color: var(--sklearn-color-unfitted-level-3);\n  color: var(--sklearn-color-background);\n  text-decoration: none;\n}\n\ndiv.sk-estimator.fitted:hover .sk-estimator-doc-link.fitted:hover,\n.sk-estimator-doc-link.fitted:hover,\ndiv.sk-label-container:hover .sk-estimator-doc-link.fitted:hover,\n.sk-estimator-doc-link.fitted:hover {\n  /* fitted */\n  background-color: var(--sklearn-color-fitted-level-3);\n  color: var(--sklearn-color-background);\n  text-decoration: none;\n}\n\n/* Span, style for the box shown on hovering the info icon */\n.sk-estimator-doc-link span {\n  display: none;\n  z-index: 9999;\n  position: relative;\n  font-weight: normal;\n  right: .2ex;\n  padding: .5ex;\n  margin: .5ex;\n  width: min-content;\n  min-width: 20ex;\n  max-width: 50ex;\n  color: var(--sklearn-color-text);\n  box-shadow: 2pt 2pt 4pt #999;\n  /* unfitted */\n  background: var(--sklearn-color-unfitted-level-0);\n  border: .5pt solid var(--sklearn-color-unfitted-level-3);\n}\n\n.sk-estimator-doc-link.fitted span {\n  /* fitted */\n  background: var(--sklearn-color-fitted-level-0);\n  border: var(--sklearn-color-fitted-level-3);\n}\n\n.sk-estimator-doc-link:hover span {\n  display: block;\n}\n\n/* \"?\"-specific style due to the `<a>` HTML tag */\n\n#sk-container-id-1 a.estimator_doc_link {\n  float: right;\n  font-size: 1rem;\n  line-height: 1em;\n  font-family: monospace;\n  background-color: var(--sklearn-color-background);\n  border-radius: 1rem;\n  height: 1rem;\n  width: 1rem;\n  text-decoration: none;\n  /* unfitted */\n  color: var(--sklearn-color-unfitted-level-1);\n  border: var(--sklearn-color-unfitted-level-1) 1pt solid;\n}\n\n#sk-container-id-1 a.estimator_doc_link.fitted {\n  /* fitted */\n  border: var(--sklearn-color-fitted-level-1) 1pt solid;\n  color: var(--sklearn-color-fitted-level-1);\n}\n\n/* On hover */\n#sk-container-id-1 a.estimator_doc_link:hover {\n  /* unfitted */\n  background-color: var(--sklearn-color-unfitted-level-3);\n  color: var(--sklearn-color-background);\n  text-decoration: none;\n}\n\n#sk-container-id-1 a.estimator_doc_link.fitted:hover {\n  /* fitted */\n  background-color: var(--sklearn-color-fitted-level-3);\n}\n</style><div id=\"sk-container-id-1\" class=\"sk-top-container\"><div class=\"sk-text-repr-fallback\"><pre>RandomForestClassifier(n_estimators=10)</pre><b>In a Jupyter environment, please rerun this cell to show the HTML representation or trust the notebook. <br />On GitHub, the HTML representation is unable to render, please try loading this page with nbviewer.org.</b></div><div class=\"sk-container\" hidden><div class=\"sk-item\"><div class=\"sk-estimator fitted sk-toggleable\"><input class=\"sk-toggleable__control sk-hidden--visually\" id=\"sk-estimator-id-1\" type=\"checkbox\" checked><label for=\"sk-estimator-id-1\" class=\"sk-toggleable__label fitted sk-toggleable__label-arrow fitted\">&nbsp;&nbsp;RandomForestClassifier<a class=\"sk-estimator-doc-link fitted\" rel=\"noreferrer\" target=\"_blank\" href=\"https://scikit-learn.org/1.4/modules/generated/sklearn.ensemble.RandomForestClassifier.html\">?<span>Documentation for RandomForestClassifier</span></a><span class=\"sk-estimator-doc-link fitted\">i<span>Fitted</span></span></label><div class=\"sk-toggleable__content fitted\"><pre>RandomForestClassifier(n_estimators=10)</pre></div> </div></div></div></div>"
     },
     "execution_count": 6,
     "metadata": {},
     "output_type": "execute_result"
    }
   ],
   "source": [
    "rf_marks.fit(X_marks, labels_marks)\n",
    "rf_spaces.fit(X_spaces, labels_spaces)\n",
    "rf_word_spaces.fit(X_spaces, labels_word_spaces)"
   ],
   "metadata": {
    "collapsed": false,
    "ExecuteTime": {
     "end_time": "2024-03-12T21:42:42.172006056Z",
     "start_time": "2024-03-12T21:42:33.680082197Z"
    }
   },
   "id": "e676fe489960ddee"
  },
  {
   "cell_type": "code",
   "execution_count": 7,
   "outputs": [
    {
     "data": {
      "text/plain": "['rf.joblib']"
     },
     "execution_count": 7,
     "metadata": {},
     "output_type": "execute_result"
    }
   ],
   "source": [
    "joblib.dump([rf_marks, rf_spaces], \"rf.joblib\")"
   ],
   "metadata": {
    "collapsed": false,
    "ExecuteTime": {
     "end_time": "2024-03-12T21:42:42.230290937Z",
     "start_time": "2024-03-12T21:42:42.172142138Z"
    }
   },
   "id": "a07b28a184a6ba29"
  },
  {
   "cell_type": "code",
   "execution_count": 8,
   "outputs": [],
   "source": [
    "test_marks, test_labels_marks, _ = prep_data_for_ml(test, True)\n",
    "test_spaces, test_labels_spaces, test_labels_word_spaces = prep_data_for_ml(test, False)"
   ],
   "metadata": {
    "collapsed": false,
    "ExecuteTime": {
     "end_time": "2024-03-12T21:42:42.324570500Z",
     "start_time": "2024-03-12T21:42:42.198416574Z"
    }
   },
   "id": "f075c5d2ab02f3b5"
  },
  {
   "cell_type": "code",
   "execution_count": 9,
   "outputs": [],
   "source": [
    "predicted_marks = rf_marks.predict(test_marks)\n",
    "predicted_spaces = rf_spaces.predict(test_spaces)\n",
    "predicted_word_spaces = rf_word_spaces.predict(test_spaces)\n"
   ],
   "metadata": {
    "collapsed": false,
    "ExecuteTime": {
     "end_time": "2024-03-12T21:42:42.413754344Z",
     "start_time": "2024-03-12T21:42:42.331868994Z"
    }
   },
   "id": "848b49c2fcceae68"
  },
  {
   "cell_type": "code",
   "execution_count": 10,
   "outputs": [
    {
     "data": {
      "text/plain": "(array([0, 0, 0, 0, 0, 1, 0, 0, 1, 0, 0, 0, 1, 0, 0, 0, 0, 0, 0, 0]),\n [0, 0, 0, 0, 0, 1, 0, 0, 1, 0, 0, 0, 1, 0, 0, 0, 1, 0, 0, 0],\n 0.027625534044797197)"
     },
     "execution_count": 10,
     "metadata": {},
     "output_type": "execute_result"
    }
   ],
   "source": [
    "predicted_spaces[:20], test_labels_spaces[:20], np.mean(labels_word_spaces)"
   ],
   "metadata": {
    "collapsed": false,
    "ExecuteTime": {
     "end_time": "2024-03-12T21:42:42.491179733Z",
     "start_time": "2024-03-12T21:42:42.443012166Z"
    }
   },
   "id": "ba7a3b7266844e75"
  },
  {
   "cell_type": "code",
   "execution_count": 11,
   "outputs": [
    {
     "name": "stdout",
     "output_type": "stream",
     "text": [
      "Marks accuracy: 0.9506880328274788  Spaces accuracy: 0.9639448948841214  Word Spaces accurage: 0.9841788046207935\n",
      "Combined spaces accurace: 0.9639448948841214\n"
     ]
    }
   ],
   "source": [
    "marks_accuracy = np.mean(predicted_marks == test_labels_marks)\n",
    "spaces_accuracy = np.mean(predicted_spaces == test_labels_spaces)\n",
    "word_spaces_accuracy = np.mean(predicted_word_spaces == test_labels_word_spaces)\n",
    "print(\"Marks accuracy:\", marks_accuracy,\n",
    "      \" Spaces accuracy:\", spaces_accuracy,\n",
    "      \" Word Spaces accurage:\", word_spaces_accuracy)\n",
    "combined_spaces = np.array(predicted_spaces)\n",
    "combined_spaces[predicted_word_spaces == 1] = label_lookup_spaces[WORD_SPACE]\n",
    "combined_spaces_accuracy = np.mean(combined_spaces == test_labels_spaces)\n",
    "print(\"Combined spaces accurace:\", combined_spaces_accuracy)"
   ],
   "metadata": {
    "collapsed": false,
    "ExecuteTime": {
     "end_time": "2024-03-12T21:42:42.491685353Z",
     "start_time": "2024-03-12T21:42:42.490375949Z"
    }
   },
   "id": "e18333935c10b264"
  },
  {
   "cell_type": "code",
   "execution_count": 12,
   "outputs": [],
   "source": [
    "# Random forest with 100 estimators and 200,000 training sets\n",
    "# Marks accuracy: 0.9505111606353249  Spaces accuracy: 0.9640883977900553\n",
    "# Random forest with 20 estimators and 200,000 training sets\n",
    "# Marks accuracy: 0.9505111606353249  Spaces accuracy: 0.9640525220635718"
   ],
   "metadata": {
    "collapsed": false,
    "ExecuteTime": {
     "end_time": "2024-03-12T21:42:42.497481467Z",
     "start_time": "2024-03-12T21:42:42.490611999Z"
    }
   },
   "id": "b2af85070ce01a"
  },
  {
   "cell_type": "code",
   "execution_count": 13,
   "outputs": [
    {
     "name": "stdout",
     "output_type": "stream",
     "text": [
      "['.----', '.--', '..-']\n"
     ]
    }
   ],
   "source": [
    "\n",
    "dd, _ = timings2dashdots(train[10])\n",
    "print(dd)\n",
    "\n",
    "#dashdots2string(dd), dd, ''.join([t.label for t in train[10]])"
   ],
   "metadata": {
    "collapsed": false,
    "ExecuteTime": {
     "end_time": "2024-03-12T21:42:42.498194136Z",
     "start_time": "2024-03-12T21:42:42.490768Z"
    }
   },
   "id": "7923c456ca744bf6"
  },
  {
   "cell_type": "code",
   "execution_count": 14,
   "outputs": [
    {
     "name": "stdout",
     "output_type": "stream",
     "text": [
      "['.-.-.-', '...', '.-..', '-.-.'] vs ['.-.-.-', '...', '.-..']\n",
      "['-....', '--..--', '--..', ' '] vs ['-....', '--..--', '--..']\n",
      "['-..-', '---', '.--.', '--'] vs ['-..-', '---', '.--.', '--']\n",
      "['.--.', '--..--', '--.', '.-'] vs ['.--.', '--...-', '--.', '.-']\n",
      "['.-..', '..', '.', '-'] vs ['.-..', '-.', '-', '-']\n",
      "['-.-', ' ', '-.--....', '-....-'] vs ['-.-', '-....', '-....-']\n",
      "[' ', '--.', '-.-.'] vs ['', '.-.-.-.']\n",
      "['...-', '--..', '----.', '-....'] vs ['...-', '.-..', '----.', '-....']\n",
      "['---', '-....-', '.....', '-----'] vs ['---', '-....-', '.....', '-----']\n",
      "['.-..', ' ', '.-..-....-', '-.-.'] vs ['.-..', ' ', '.-..-....-']\n",
      "['..---', '.--.', ' ', '.--......'] vs ['..---', '.--.', '.....']\n",
      "[' ', '-.--', '-..-', '--'] vs ['', '-.--']\n",
      "['.--.-.', ' ', '.--.-..----', '--'] vs ['.-..-.', ' ', '.-..-..-..-', '--']\n",
      "['--.-', ' ', '--.-.--.-.', '.-..'] vs ['--.-', '.--...', '.-..']\n",
      "['-...', '....-', '-....-', '-----'] vs ['-...', '....-', '-....-', '-----']\n",
      "[' ', '---...', ' ', '---....-.-.-'] vs ['', '---...', '.-.-.-']\n",
      "['....-', '---...', '-', '..-'] vs ['....-', '---...', '-', '..-']\n",
      "[' ', ' ', '.--.-.', ' '] vs ['', '', '.--.-.']\n",
      "['---', '--...', '.....', ' '] vs ['---', '--...', '.....']\n",
      "['...', '--.', '---..', ' '] vs ['...', '--.---..', ' ']\n",
      "['-.--', '.--.-.', '-.', '.--.-.'] vs ['-.--', '.--.-.', '-.', '.--.-.']\n",
      "['.----.', '.-..', '.----', '---..'] vs ['.--.-.', '.-..', '.----', '---..']\n",
      "['-..', ' ', '-..', ' ', '-..--..--'] vs ['-..', '']\n",
      "['-.--', '.-.-.-', ' ', '.-.-.----'] vs ['-.--', '.-.-.-', ' ']\n",
      "['-.', '..---', '-...', '.----.'] vs ['..', '..---', '-....----.']\n",
      "['.-.-.-', '.--.', '-...', '.-..-.'] vs ['.-.-.-', '.--.', '-...', '.-..-.']\n",
      "['-', '-', '..---', '..---'] vs ['--..--...---']\n",
      "['...', '-.-.', '-.-', '--'] vs ['...', '-.-.', '-.-', '--']\n",
      "['..---', '...--', '-..-.', '----.'] vs ['..---....-', '-..-.', '----.']\n",
      "['.--', '---...', '-', '---'] vs ['.--', '---...', '-', '-.-']\n",
      "[' ', '-----', '.--.', '.-.-.-'] vs ['', '-----', '.--.', '.-.-.-']\n",
      "['-.--', '-..-.', '.----', '-..-'] vs ['-..-', '-..-.', '..---', '...-']\n",
      "['..---', '-....-', '-.-.', '----.'] vs ['..-.-', '-....-', '-.-.', '----.']\n",
      "['...', '--...', '.-.-.-', '-..-'] vs ['...', '--...', '.-.-.-', '-..-']\n",
      "['.--.-.', ' ', '.--.-...', ' '] vs ['.--.-.', '..']\n",
      "['.-..', '-..', '.', '.-'] vs ['.-..-...', '.-']\n",
      "['...--', '--..--', '.....', '-.-'] vs ['...--', '--..--', '.....', '-.-']\n",
      "[' ', '-...', '.--.-.', '---..'] vs [' ', '-...', '.--...', '---..']\n",
      "['.--.', '-....-', ' ', '-....--..-'] vs ['.--.', '-....-', ' ']\n",
      "['.--.-.', '..', '-....-', '--...'] vs ['.--.-.', '..', '-...--', '--...']\n",
      "['-----', '--..--', '-.', ' '] vs ['---..', '-...-.', '-.']\n",
      "['----.', '-.-', '---'] vs ['.---.', '-.-', '---']\n",
      "['-.-.', '.-', '...--', '-...'] vs ['-.-..-', '...--', '-...']\n",
      "['..-.', '....-', '.----.', ' '] vs ['..-.', '....-.----.', ' ']\n",
      "[' ', '---..', '--.', '.-'] vs ['', '--...', '--.', '.-']\n",
      "['..--..', '---', '....', '-..-.'] vs ['..--..', '---', '....', '-....']\n",
      "['.---', '.----', '.--.-.', '-'] vs ['.---', '.----.--.-.', '.']\n",
      "['--.-', '.---', '-.', ' '] vs ['--.-.----.', ' ']\n",
      "['..---', '-.--', '....', '...--'] vs ['..---', '-.--', '....', '...--']\n",
      "[' ', '---', '-..-', '-..'] vs [' ', '-.-']\n",
      "['.-..', '--', '--.', '.-'] vs ['.-..', '--', '--.']\n",
      "['...', '..-.', '--.', '-..-'] vs ['-..', '-.-.', '--.', '-..-']\n",
      "['-----', '...', '.--.-.', '....'] vs ['-----', '...', '.--.-.', '....']\n",
      "[' ', '...-', '---', ' '] vs ['', '...-', '---']\n",
      "['--..', '..---', '.', '-'] vs ['--..', '..---.', '-']\n",
      "[' ', '-..-.', ' ', '-..-.-.-.'] vs ['', '-....', '-.-.']\n",
      "['-..-.', '---..', '-..-.', '--.-'] vs ['-..-.', '---..', '-..-.', '--.-']\n",
      "[' ', '-....-', ' '] vs ['', '-...--']\n",
      "['-..-.', ' ', '-..-.--.-', '---..'] vs ['-..-.', '--.-', '---..']\n",
      "['.--', '-.-', '--.-', '-.'] vs ['.--', '-.-', '--.-', '..']\n",
      "['----.', '...--', '.--', '.-..'] vs ['----.', '...--', ' ', '...--.--', '.-..']\n",
      "['..-.', '--', '..---', '-.'] vs ['..-.', '-.', '..---', '-.']\n",
      "['...--', '-.-', '--.-', '.--.-.'] vs ['...--', '-.-', '.-.-', '.-..-.']\n",
      "['-', '-.-', '--..', '-....-'] vs ['-', '-.-', '-...', '-....-']\n",
      "['-.', '---...', '-....-', '-.-'] vs ['-.', '---...', '-....-', '-.-']\n",
      "['..---', ' ', '..---', ' ', '..-------.'] vs ['..-.-', '', '----.']\n",
      "['...--', '--.-', '.-.-.-', '.'] vs ['...--', '--.-', '.-.-.-', '.']\n",
      "['--..--', '---', '-..-.', '-..-.'] vs ['--..--', '---', '-..-.', '-..-.']\n",
      "['.---', '.', '.-..-.', '---...'] vs ['.---', '.', '.-..-.', '---...']\n",
      "['...--', '....-', '.', '-.-'] vs ['...--', '....-', '.', '-.-']\n",
      "['.----.', '.---', '-....-', '-....-'] vs ['.---..', '.--.', '-....--....-']\n",
      "['---..', '---', '-----', '.--.-.'] vs ['---..', '---', '.-.--', '.-....']\n",
      "[' ', '.----', '.-..', '.--.-.'] vs [' ', '.----', '.-..', '.--.-.']\n",
      "['.--', '--..', '.', '--'] vs ['.--', '-...', '.', '-.']\n",
      "[' ', ' ', '---', '.-.-.-'] vs ['', '', '---']\n",
      "['--.', '..---', '...-', '-'] vs ['--.', '..---', '...-', '-']\n",
      "[' ', '-....-', '--..', '----.'] vs [' ', '-....-', '--..', '--.-.']\n",
      "['-...', '.', ' ', '...---'] vs ['-...', '.', '..---']\n",
      "['-...', '..-.', ' '] vs ['-..-', '-.-.']\n",
      "['...-', '--.', '-..-.', ' '] vs ['...-', '--.', '-..-.']\n",
      "['-..', '-.-', '....-', '.--'] vs ['-..', '-.-', '....-', '.--']\n",
      "['.', '-...', '.', '---...'] vs ['.', '-...', '.', '---...']\n",
      "['.-.', '---', '....-', '....'] vs ['.-.', '---', '..---', '....']\n",
      "['--..--', '-....', '.--', '--'] vs ['--..--', '-....']\n",
      "['.', '-----', '---..', '-..-'] vs ['.', '--------..', '-..-']\n",
      "['-..-', '-.', '.-..', '.-.-.-'] vs ['-..-', '-..-..', '.-.-.-']\n",
      "['.--.-.', '.-..-.', '...', '--..--'] vs ['.--.-.', '.-..-.', '...', '--..--']\n",
      "[' ', '---..', '.-', '..'] vs ['', '---..', '.-', '..']\n",
      "['-..-', '-----', '-.--', ' '] vs ['-...', '-----', '-.-.', ' ']\n",
      "['..-', '.', '-.', ' '] vs ['..-.', '-.']\n",
      "['--', '.-.-.-', '-', '--.-'] vs ['-..-.-.-', '-', '--..']\n",
      "['.', '-....', ' '] vs ['.', '-..-.']\n",
      "['--...', '-....-', '-----'] vs ['--..', '.', '-', '....-', '-----']\n",
      "['-.', '.-.-.-', '-....', '-.'] vs ['-..-.-.-', '-....', '-.']\n",
      "['.-..', '...', '..', '..-'] vs ['--.-', '.-.-.', '..-']\n",
      "['--.', '.----', '---..', '-...'] vs ['--.', '.----', '---..', '-...']\n",
      "['..--..', '...--', '.--.', '---..'] vs ['..--..', '...--', '.--.', '---..']\n",
      "['..--..', '-...', '--', '....-'] vs ['..--..', '-...', '--', '....-']\n",
      "['-..-', '-.-', ' '] vs ['-..--.-', ' ']\n",
      "['...-', '-...', '..---', '--...'] vs ['...-', '-...', '..---', '--...']\n",
      "['-....-', '..---', '-....', '.----.'] vs ['-....-', '..---', '-....', '..---.']\n",
      "['-...', '-..-.', '-..-.', '..---'] vs ['-...', '-..-.', '-..-.', '..---']\n",
      "['--', '.--', '-....-', '-....'] vs ['--', '.--', '-....-', '-....']\n",
      "[' ', '.-.-.-', '-.', '.--'] vs [' ', '.-.-.-', '-..--']\n",
      "['...-', '.---', '..-', '.-..'] vs ['...-', '.---', '..-', '.-..']\n",
      "[' ', '.-.-.-', '---..', ' '] vs ['', '.-.-..---..', ' ']\n",
      "['-...', ' ', '-...', ' ', '-....-.-.-'] vs ['-...', '', '.-.-.-']\n",
      "['.....', '...--', '.--.-.', '-----'] vs ['.....', '...--', '.--.-.', '-----']\n",
      "['.-..-.', '.--.-.', '....-', '.-.-.-'] vs ['.-..-.', '.--...', ' ', '.--.......-', '.-.-', '.-']\n",
      "['--..', '.-..-.', '..-', '-..-.'] vs ['--..', '.-..-.', '..-', '-..-.']\n",
      "['.--.', '..', '.-..', '.-'] vs ['.--.', '..', '.-..', '.-']\n",
      "['...-', '--.-', '--.-', '-.--'] vs ['...-', '--.-', '--.-', '-.--']\n",
      "[' ', '.--', ' ', '.----...'] vs ['', '.--', '--...']\n",
      "[' ', '--.', '.----.', '...--'] vs [' ', '--.', '.----.', '...--']\n",
      "['.--', '.--', '-.--', '---'] vs ['.--...', '..--', '---']\n",
      "['.--', '--.-', '-.--', '--.'] vs ['.--', '--.-', '-..-', '--.']\n",
      "[' ', '.-', '..---', '--'] vs ['', '.-..---']\n",
      "['.----', '...', '-..-', '-.-.'] vs ['..---', '...', '-..-', '-.-.']\n",
      "['--', '-..', '-.-', '.-.-.-'] vs ['--', '-..', '-.-.-.-.-']\n",
      "['-..', ' ', '-..-....-', '--'] vs ['-..', '-....-']\n",
      "['--', '-..-.', '...--', '.----.'] vs ['.-', '-..-.', '...--', '.--.-.']\n",
      "['..---', '.---', '.-.-.-'] vs ['..---', '.---', '.-.-.-']\n",
      "['-.--', '.--', '...', '-.'] vs ['-.--', '.--', '...-.']\n",
      "['..', ' ', '.....--', '...--'] vs ['..', ' ', '.....--']\n",
      "['.----', '...', '-...'] vs ['.----', '...', '-...']\n",
      "['....', '----.', '.....', ' '] vs ['-...', '----.', '-....', ' ']\n",
      "['.....', '.---', '-.--', '-.-.'] vs ['.....', '.---', '-.--', '-.-.']\n",
      "['...', '-----', '.--.-.', '--'] vs ['...', '-----', '.--.-.', '--']\n",
      "[' ', '-', '..---', '...-'] vs ['', '-']\n",
      "['---', '...', '...-', '.-.'] vs ['---', '...', '...-', '.-.']\n",
      "['--.-', '--...', '-----', '...'] vs ['--.-', '--...', '-----', '...']\n",
      "['---..', '-...', '--.', '.-..'] vs ['---..', '-...', '--.']\n",
      "['---...', '-.-.', ' '] vs ['---...-.-.', ' ']\n",
      "['---...', '-..-.', ' ', '-..-..-..-.'] vs ['---...', '-..-.', ' ', '-..-..-..-.']\n",
      "['...-', ' ', '...--..', '-....-'] vs ['...-', ' ', '...--..', '-....-']\n",
      "['--...', '--', '..-', '-..-'] vs ['--...', '--', '..-', '-..-']\n",
      "['.-', '--..--', ' ', '--..--..-'] vs ['.-', '--..--', '..-']\n",
      "['---', '---...', '-', '--.-'] vs ['--.', '---...', '-', '--.-']\n",
      "['.', '.-..', ' ', '.-.....'] vs ['.----']\n",
      "['..-.', '---...', '.-', '.-.'] vs ['..-.', '---...', '.-', '.-.']\n",
      "['--..', '.--', '-.', '...--'] vs ['--..', '.--', '-.', '...--']\n",
      "['.--.-.', ' ', '.--.-..-..', '-....'] vs ['.--.-.', ' ', '.--.-..-..', '-....']\n",
      "['.', '--..--', '...--', '....-'] vs ['.--..--', '...--', '....-']\n",
      "['-.--', '.--.', '.-.', '--..--'] vs ['-.--', '..-.', '.-.', '--..--']\n",
      "['-....', '-..-.', '---...', '..--..'] vs ['-..-.', '-..-.', '---.-.', '..--..']\n",
      "[' ', '.--', '-', ' '] vs ['', '.---']\n",
      "[' ', '-', '---...', ' '] vs ['', '----...']\n",
      "['..--..', '.----', '---...', '-....-'] vs ['..--..', '.---.', '---...', '-....-']\n",
      "['-.-.', '--', '.--.', '..-'] vs ['..-.', '--', '.--.']\n",
      "['-.-.', '..---', '...-', '-.--'] vs ['-.-.', '..---', '...-', '-.--']\n",
      "['--.-', '-...', '...-', '.....'] vs ['--.-', '-...', '...-', '.....']\n",
      "['.-', '.--', '...-', '.--'] vs ['.-.--', '...-', '.--']\n",
      "['--.', '--..--', '-.-.', '.--.-.'] vs ['--.', '--..-.', '-.-.', '.--.-.']\n",
      "['---..', '---..', '.----', '.----.'] vs ['---..', '---..', '..---', ' ', '..---.----.']\n",
      "['..---', '--', '..---', '.----.'] vs ['..---', '-.', '..---', '.----.']\n",
      "['----.', '.--.-.', '-..-.', '....-'] vs ['----..--.-.', '...-.', '....-']\n",
      "['....-', '.--.', ' ', '.--....'] vs ['.-..-.--.', ' ']\n",
      "['.', '-.', '-.-', ' '] vs ['.', '-.-.-']\n",
      "['.-..', '.-..-.', '-..-', '--..--'] vs ['.-..', '.-..-.', '-..-', '--..--']\n",
      "[' ', '.----.', '.--', '.---'] vs [' ', '.----..--', '.--.']\n",
      "['-...', '....-', '-.', '.-..'] vs ['-.-.', '....-', '-.', '.-..']\n",
      "['--..--', '.-.-.-', '-.-', '.--'] vs ['--...-', '.-.-.-', '-.-', '.-.']\n",
      "['...--', '..---', '...--', '---..'] vs ['...--', '..---', '...--', '---..']\n",
      "['---', '-...', '-.--', '-..'] vs ['--.', '-...-.--', '-..']\n",
      "['---...', '..-', '---...', '.-.-.-'] vs ['---...', '..-', '-.-...', '.-.-.-']\n",
      "['---..', '..-', '..-', '-...'] vs ['---..', '..-', '..--...']\n",
      "['---', '....', '...', '-----'] vs ['--.', '.......', '-----']\n",
      "['.-.-.-', '-..-', '..-', '...-'] vs ['.-.-.-', '-..-', '..-', '...-']\n",
      "['-...', '-.-.', '.---', '-'] vs ['-...', '-.-.', '.----']\n",
      "[' ', '--...', '.-', '-.--'] vs ['', '--...', '.-']\n",
      "['-.-', '.--', '--..', ' '] vs ['-.-', '.--', '-...']\n",
      "['--..', '-..-.', '----.', '-..-'] vs ['--..', '-..-.', '----.', '-..-']\n",
      "['--', ' ', '------.', '.-.'] vs ['-.']\n",
      "[' ', '..', ' ', '..---...'] vs ['', '..', '---...']\n",
      "['...', '..-.', '...', '--'] vs ['.--', '.--.', '..-']\n",
      "['----.', '---', '--..--', ' '] vs ['----.', '---', '--..--']\n",
      "['.----.', '-', '-.-', '-.-.'] vs ['.--.-.-', '-.-', '....']\n",
      "['-....-', '..-.', '--..', ' '] vs ['-....-', '..-.', '--..']\n",
      "[' ', '...--', '-.-.', '.-..'] vs [' ', '...--', '-.-.']\n",
      "['...--', '.-..-.', '--', '.--.-.'] vs ['...--', '.-..-.', '--']\n",
      "['-..-.', '.-..', '....-', '..-'] vs ['-..-.', '.-..', '....-', '..-']\n",
      "['-..-', '..-', ' ', '..---..'] vs ['-..-', '..-', ' ']\n",
      "['--...', ' ', '--.....--..', '-.--'] vs ['--...', ' ', '--.....--..', '-.--']\n",
      "['-.--', '---..', '.--.', '.--.-.'] vs ['-.--', '---..', '.--.', '.--.-.']\n",
      "['-..-.', '-....', '.--.-.', '...-'] vs ['-..-.-....', '.--.-.', '...-']\n",
      "['.---', ' ', '.---.....', '..'] vs ['.---', ' ', '.---.....']\n",
      "[' ', '--', '.-..-.', '-----'] vs ['', '--', '.-..-.', '-----']\n",
      "['.....', '.-..', '.-.', '....-'] vs ['....-', '.---', '--.', '.-..-']\n",
      "['...-', '..', '.-.-.-', '.----'] vs ['...-', '..', '.-.-.-', '.--.-']\n",
      "['...', '--', '-..'] vs ['...', '---..']\n",
      "['.----.', '-....', '.----', '--.'] vs ['.----.', '-....', '.----', '--.']\n",
      "['..', '..', '--..--', '---...'] vs ['..', '..', '--..--', '---...']\n",
      "['.', ' ', '.-.-.', '.--'] vs ['.', '-.-..--']\n",
      "['..-', '...-', '.----.', '-..'] vs ['..-', '...-', '.--.-.', '-..']\n",
      "['.----.', '-----', '-..-', '-'] vs ['..-.-.', '-----', '...-', '-']\n",
      "['-..-.', '.--', '..-', '...--'] vs ['...-.', '.--', '..-', '...--']\n",
      "['---', '--.-', '--', '-.-'] vs ['---', '--.-', '--', '-..']\n",
      "['.-.', '-.-.', '-....-', '---'] vs ['.-.', '-.-.-....-', '---']\n",
      "['-..-', '...-', '.-.-.-', '---'] vs ['-..-', '...-', '.-.-.-', '---']\n",
      "['-.--', '-', '-...', '.-.-.-'] vs ['-.--', '.', '-...', '.-.-..']\n",
      "['---...', '-..', '....-'] vs ['---...', '-..', '....-']\n",
      "['...--', '...--', ' ', '...--', ' '] vs ['...--...--', '']\n",
      "['...', '....-', '-..-.', '---...'] vs ['...', '....-', '-..-.', '---...']\n",
      "[' ', '-.-', '..', '.---'] vs ['', '-.-', '..', '.---']\n",
      "['-----', '....', '...--', '-..-.'] vs ['-----', '....', '...--']\n",
      "['-.-.', '---..', '-.-', '...--'] vs ['-.-.', '---..', '-.-', '...--']\n",
      "['.....', '..---', '..-.', '--.-'] vs ['.....', '..---', '..-.', '--.-']\n",
      "['-..', ' ', '-..---...', '.-'] vs ['-..', '---...', '.-']\n",
      "['-.-', '..', '.-.', '-...'] vs ['-.-', '..', '.-.-...']\n",
      "['-.', '.....', '----.', '.'] vs ['-.', '.....', '----.']\n",
      "['....-', '-', '--.-', '-'] vs ['....-', '-', '--.-', '-']\n",
      "['--.-', '--...', '...--', ' '] vs ['--.-', '--...', '...--']\n",
      "['-....', '-....', '.--.-.', '..-'] vs ['-..-.', '-..-.', '.----.', '..-']\n",
      "['...', '--.', '.----.', '--'] vs ['...', '--.', '.----.', '--']\n",
      "[' ', '----.', ' '] vs ['', '----.']\n",
      "['-----', '-..', '.-.-.-', '.-..-.'] vs ['---.-', '-..', '.-...-']\n",
      "['--.-', '.----', '...', ' '] vs ['--.-', '.----', '...']\n",
      "['--', '-..-', '....', '-..-'] vs ['--', '-..-', '....-..-']\n",
      "['-..-.', '-..', '--.-', '-...'] vs ['-..-.', '-..--.-', '-...']\n",
      "['.--.-.', '-----', '----.', '-.-'] vs ['..-.-.', '-----', '----.', '-.-']\n",
      "['.----.', '.....', '.-', '--...'] vs ['.----.', '.....', '.-', '--...']\n",
      "['-.-.', '---', '.----', '....-'] vs ['-.-.', '---', '.----', '....-']\n",
      "['--..', '....-', ' ', '....--.'] vs ['---..-.--', ' ', '---..-.---.']\n",
      "['-', ' ', '--.-', '.---'] vs ['-', '-..', '.---']\n",
      "['..---', '..-', '.----.'] vs ['..---', '..-', '.----.']\n",
      "['-..', '-..-', '...', '....'] vs ['-..', '-..-', '.-.', '..-.']\n",
      "['.---', '--..', '-....', '-'] vs ['.---', '--..', '-....']\n",
      "['-...', '--.', '--.-', ' '] vs ['-...', '.-.--.-', ' ']\n",
      "['-----', '..', ' ', '..', ' '] vs ['.--.-..', '']\n",
      "['---', '...-', '--..', '-.--'] vs ['-.-....--..', '-.-.']\n",
      "['-.-', '----.', '...', '..-'] vs ['-.-', '----.', '...', '..-']\n",
      "['.-.', '-..', ' ', '-....--..'] vs ['--.-..', ' ', '--.-....--..']\n",
      "['.-..', '....-', '-.--', '---'] vs ['.-..', '....-', '-.--', '---']\n",
      "['--..--', '.---', '.----', '-..-.'] vs ['-...--', '.---.----', '-....']\n",
      "['-.--', '.-..-.', '--.-', '.-.'] vs ['-.--', '.-..-.', '--.-', '.-.']\n",
      "['-...', '.-..', '-....-', '-----'] vs ['-...', '.-..', '.....-', '-----']\n",
      "['---..', '.....', ' ', '.....', ' '] vs ['---.......', ' ']\n",
      "['---...', '.----', '.-.', '...'] vs ['---.....---', '...', '...']\n",
      "['.', '.-..-.', '-....-'] vs ['.', '.-..-.', '-...--']\n",
      "['.-.-.-', '-...', '.-..', '-.-'] vs ['.-.-.-', '-...', '.-..', '-.-']\n",
      "[' ', '-.-', ' '] vs ['', '-.-']\n",
      "[' ', '-..-.', '.-..', '---..'] vs ['', '-..-.', '.-..', '---..']\n",
      "['-.', '.....', '...', '---..'] vs ['-.', '.....', '...', '---..']\n",
      "['.', '...--', '.-.', '.----'] vs ['.', '...-.', '.-..----']\n",
      "['---', '-.-', '.-.', '....-'] vs ['---', '-.-', '.-.', '....-']\n",
      "['..-', '---..', '.', '-..'] vs ['..-', '---...', '-..']\n",
      "['-.', '.-.', '-..-', '-.--'] vs ['-.', '.-.', '-..-', '-.--']\n",
      "['--.', '--.', '.', '...-'] vs ['--.--.', '....-']\n",
      "['.-..-.', '.-.', '....', '..---'] vs ['.-..-.', '.-.', '....', '..---']\n",
      "['--..', ' ', '--...----', '-..-.'] vs ['--..', ' ', '--...-----..-.']\n",
      "['..-.', '--..--', '-....-', '....-'] vs ['..-.', '--..---....-....-']\n",
      "['-..', '.-', '....-', '--...'] vs ['-...-', '....-', '--...']\n",
      "['..-.', '-.-.', '--..--', '--...'] vs ['..-.', '-.-.', '--..--', '--...']\n",
      "['---', '..---', '-..-', '----.'] vs ['---', '..----..-', '--.-.']\n",
      "['.--.-.', '....', '-.', '.----.'] vs ['.--.-.', '....', '-.', '.---..']\n",
      "['.-.-.-', '-..-', '.-', '.-..-.'] vs ['.-.-.-', '-..-', ' ', '-..-.-', '....-.']\n",
      "['-.-', '.....', '-----', '.----.'] vs ['-.-', '.....', '-----', '.-.--.']\n",
      "['..', '--', '.----', ' '] vs ['..', '--.----']\n",
      "['---...', '.-', '--', '---...'] vs ['---...', '..', '--', '---...']\n",
      "['...--', '--.', '.-.-.-', ' '] vs ['...--', '--.', '.-.-.-']\n",
      "['....-', '--.-', ' ', '--.-...'] vs ['....-----', ' ']\n",
      "['--', '---...', '---', '-..-'] vs ['--', '---...', '---', '-..-']\n",
      "['---', '.-', '---', ' '] vs ['.--.-', '-.-', ' ']\n",
      "['--.-', '.--.', '---..'] vs ['--.-', '.--.', '---..']\n",
      "['-..-.', '-.--', '...-', ' '] vs ['-..-.', '-.--', '...-']\n",
      "['.-', ' ', '.-.----.', '--..--'] vs ['.-', ' ', '.-.--.-.', '--..--']\n",
      "[' ', '.-', '-..-', '..-.'] vs ['', '.---.-', '..-.']\n",
      "['.--.', '-.-.', '----.', '.--.'] vs ['.--.', '-.-.', '----.', '.--.']\n",
      "['-....', '-..-.', '----.', '.-.-.-'] vs ['-....', '-..-.', '----.', '.-.-.-']\n",
      "['-', '--', '-...', '....'] vs ['-', '--', '-...', '....']\n",
      "['-...', '--..', '..---', ' '] vs ['-...', '--..', '..--.']\n",
      "[' ', '-.-.', ' ', '-.-..-.'] vs ['', '---.']\n",
      "['.----.', '.----.', '....', '.--.-.'] vs ['.----.', '.--', '--.', '.', '...', '.--.-.']\n",
      "['-.-.', '---...', '-..'] vs ['-.-.', '---...', '-..']\n",
      "['....-', '---', '---..', '..---'] vs ['....-', '---', '---..', '..---']\n",
      "['.----', '---..', ' ', '---....-'] vs ['..---', '---..', ' ', '---....-']\n",
      "['-.--', '..', ' '] vs ['-.--', '..']\n",
      "['-', ' ', '-.---', '.--.'] vs ['-', '.---.--.']\n",
      "[' ', '.....', '-.-.', '--...'] vs [' ', '.....-.--']\n",
      "['-.-', '....-', ' ', '....-.--.'] vs ['-.-', '....-', '.--.']\n",
      "[' ', '-...', '--.-', '--...'] vs ['', '-...', '--.-', '--...']\n",
      "['--...', '--.-', '.-.-.-', '-..-.'] vs ['--...', '-..-', '.-.-.-', '-..-.']\n",
      "['---...', '.-..-.', '...-', '.--.-.'] vs ['----..', '.-..-.', '...-', '.--.-.']\n",
      "['.----', '.-.-.-', '.-.-.-', '--'] vs ['.----', '.-.-.-', '.-.-.-', '--']\n",
      "['..-.', ' ', '..-.--...', '.--.'] vs ['..-.', '--..-', '.--.']\n",
      "['.---', '----.', '-..'] vs ['.---', '----.', '-..']\n",
      "['--...', '.-.', '-..', '...--'] vs ['--...', '.-.', '-..']\n",
      "[' ', '-----', '-.-.', '--...'] vs ['', '-----', '..-.', '--...']\n",
      "[' ', '..--..', '-..', ' '] vs ['', '..--..', '-..']\n",
      "['...--', ' ', '...--...', '---'] vs ['...--', '...']\n",
      "['..--..', '---', '....-', '-.-'] vs ['..--..---', '....--.-']\n",
      "['.', '-....', '-.', ' '] vs ['.-.-.-', '-.']\n",
      "['-.-.', '.--.', ' ', '.--....'] vs ['-.-.', '.--.', '...']\n",
      "[' ', '-..-', '...', '-..-'] vs [' ', '-..-', '...']\n",
      "['.--.-.', '.-..', '-....', '-.--'] vs ['.--.-.', '.-..', '-....', '-.--']\n",
      "['-.', '----.', '-', '..---'] vs ['-.----.', '-']\n",
      "[' ', '.....', '.-..', '-.-.'] vs [' ', '....-']\n",
      "['-....-', '....-', '...-', '..--..'] vs ['-....-', '....-', '...-', '..--..']\n",
      "['..--..', '....-', '-----', '-.--'] vs ['...-..', '....-', '-----', '-.--']\n",
      "['-....', '.--.', ' ', '.--.---...'] vs ['-.-..', '---.', ' ']\n",
      "[' ', '.-.-.-', '---...', '...'] vs [' ', '.-.-.-']\n",
      "['.---', '...--', '.-', '-..'] vs ['.---...--', '.-', '-..']\n",
      "['....-', '-....', '.....', '-.'] vs ['--.--', '-.-.-', '..--.-.']\n",
      "['---..', '-.-', ' '] vs ['.--..', '-.-']\n",
      "['-..', '.-.', '-.--', '-.-'] vs ['-..', '.-.', '-..-', '..-']\n",
      "[' ', '..--..', '.----.', '...-'] vs ['', '..--..', '.----.', '...-']\n",
      "['-...', '.-..-.', '-.-.', ' '] vs ['---.', '.-..--', '-.-.']\n",
      "[' ', '-....-', '.-', '-...'] vs ['', '-....-.-', '-...']\n",
      "['-...', '-...', '.--.', '....-'] vs ['-...', '-...', '.--.', '....-']\n",
      "['.--.', '--.', ' ', '--.....'] vs ['.--.', '--.', '....']\n",
      "['-----', '-...', '..---'] vs ['-----', '-.....---']\n",
      "['-...', '-..-.', '--..', '-----'] vs ['-...', '-..-.', '--..', '.-.--']\n",
      "['----.', '-..-', '.....', '--.'] vs ['---..', '-..-', '.....', '--.']\n",
      "['.-', '..-.', '-.--', '.----.'] vs ['.-', '..-.', '-.-.', '.---..']\n",
      "[' ', '.---', '-----', '.--.'] vs [' ', '.---', '-----', '.-..']\n",
      "['---', ' ', '---..-'] vs ['---', '..-']\n",
      "['--...', '--.', '.----', '-....-'] vs ['--...', '--.', '.----', '.....-']\n",
      "['..---', '.--', '-....', '--.-'] vs ['..---', '.--', '-....', '--..']\n",
      "['.----.', '-..-', ' ', '-..-....'] vs ['.----.-..-', ' ', '.----.-..-....']\n",
      "['---...', '..---', ' ', '..---.---'] vs ['---...', '..---', ' ', '..---.---']\n",
      "['..-.', ' ', '..-.--..--', '-....'] vs ['....', ' ', '....--..--', '-....']\n",
      "['.---', '---...', '-----', '-.-.'] vs ['.---', '---...', '-----', '-...']\n",
      "['--...', '---', '.----', '--..'] vs ['.....', '---', '.----', '.-..']\n",
      "['--..', '-..-', '.---', '--..'] vs ['--..', '...-', '.---', '--..']\n",
      "['...', '...-', '-....', '.'] vs ['...', '-..--.--.', '-']\n",
      "['.--.-.', '..--..', '..-', '.---'] vs ['.--.-.', '...-..', '..-', '.---']\n",
      "['---', '.-', '-..-', '.....'] vs ['--.', '.-', '-..-', '.....']\n",
      "['....', '..---', '.-.-.-', '...'] vs ['....', '..---', '.-.-.-', '...']\n",
      "['.-..-.', '-----', ' ', '------..-'] vs ['.-..-.', '-----', ' ']\n",
      "[' ', '....', '.-.', '-.-'] vs ['', '....', '.-.', '-.-']\n",
      "['...', '...-', '.--.-.', ' '] vs ['..-...-', '---.-.', ' ']\n",
      "['.-.', '.----', '.-..-.'] vs ['.-.', '.----', '.-..-.']\n",
      "['-.-', '--.', '..--..', '..-.'] vs ['-.-', '--.', '..--..', '..-.']\n",
      "['.--', '..-.', '.---', '...-'] vs ['.--', '..-.', '.---', '...-']\n",
      "['..-', '.....', '-', '.----'] vs ['..-', '.....', '-', '.----']\n",
      "['...', '..-', '.-..', ' '] vs ['...', '---', '.-.-', ' ']\n",
      "[' ', '--.-', ' ', '--.---'] vs ['', '--.-', '--']\n",
      "['---..', '...', '--.-', '..-'] vs ['---..', '...', '--.-', '..-']\n",
      "['.---', '..---', '-.', '-...'] vs ['.---', '..---', '-.', '-...']\n",
      "['.-..', '.-.', '..-.', '-.-.'] vs ['.-..', '.-.', '..-.', '-.-.']\n",
      "[' ', ' ', ' ', '--...'] vs ['', '', '']\n",
      "['....-', '...--', '.--', '---..'] vs ['....-', '...--', '.--', '---..']\n",
      "[' ', '.-.-.-', ' ', '.-.-.------'] vs ['', '.-.-.-', '.----']\n",
      "['....', ' ', '.....-..-.', '...-'] vs ['.--.', ' ', '.--.--.---', '...-']\n",
      "['-..', '-....-', '-.-.', '-..-.'] vs ['-..', '-....-', '-.-.', '-..-.']\n",
      "['-.-.', '-....', '-.--', '..'] vs ['-.-.', '-....', '-.--', '..']\n",
      "['.---', '.....', '...-', '-.'] vs ['.---.....', '...-', '-.']\n",
      "['.--.', '-', ' '] vs ['.--.-']\n",
      "['.--.-.', '.-', '-....-', '.--.'] vs ['.--.-.', '.-', '-....-', '.--.']\n",
      "['.--', '-..', '.----', '-...'] vs ['.--', '-..', '..---', '-...']\n",
      "['-...', '--...', '.-.', '--'] vs ['-...', '--...', '.-.', '--']\n",
      "[' ', '..---', '..---', '-....'] vs ['', '..---', '..----....']\n",
      "['..', ' ', '..---..', '....-'] vs ['..', ' ', '..---..', '....-']\n",
      "['-....-', '-....-', '...--', '--'] vs ['-....-', '-....-', '...--', '--']\n"
     ]
    },
    {
     "data": {
      "text/plain": "0.646"
     },
     "execution_count": 14,
     "metadata": {},
     "output_type": "execute_result"
    }
   ],
   "source": [
    "predicted_timings = predicted2timings(test[:1000], predicted_marks, predicted_spaces)\n",
    "predicted_timings = [timings2dashdots(t)[1] for t in predicted_timings]\n",
    "correct = score_timing_sets(test[:1000], predicted_timings)\n",
    "accuracy = np.mean(correct)\n",
    "accuracy"
   ],
   "metadata": {
    "collapsed": false,
    "ExecuteTime": {
     "end_time": "2024-03-12T21:42:43.395597301Z",
     "start_time": "2024-03-12T21:42:42.490930613Z"
    }
   },
   "id": "2eafc6af6bfce010"
  },
  {
   "cell_type": "code",
   "execution_count": 15,
   "outputs": [],
   "source": [
    "# save_timings(sys.stdout, predicted_timings[2], \"PREDICT\")\n",
    "# print(\"----------------------------\")\n",
    "# save_timings(sys.stdout, test[2], \"TEST\")"
   ],
   "metadata": {
    "collapsed": false,
    "ExecuteTime": {
     "end_time": "2024-03-12T21:42:43.481852996Z",
     "start_time": "2024-03-12T21:42:43.395533366Z"
    }
   },
   "id": "595d6d24edbe27a7"
  },
  {
   "cell_type": "code",
   "execution_count": 15,
   "outputs": [],
   "source": [],
   "metadata": {
    "collapsed": false,
    "ExecuteTime": {
     "end_time": "2024-03-12T21:42:43.496553516Z",
     "start_time": "2024-03-12T21:42:43.438251522Z"
    }
   },
   "id": "85f323f5a1174467"
  },
  {
   "cell_type": "code",
   "execution_count": 16,
   "outputs": [
    {
     "data": {
      "text/plain": "(0.01528305948195451, 0.027625534044797197)"
     },
     "execution_count": 16,
     "metadata": {},
     "output_type": "execute_result"
    }
   ],
   "source": [
    "np.mean(predicted_spaces == 2), np.mean(np.array(labels_spaces, dtype=int) == 2)"
   ],
   "metadata": {
    "collapsed": false,
    "ExecuteTime": {
     "end_time": "2024-03-12T21:42:43.545903768Z",
     "start_time": "2024-03-12T21:42:43.438489146Z"
    }
   },
   "id": "e3da862ba347d426"
  },
  {
   "cell_type": "code",
   "execution_count": 17,
   "outputs": [],
   "source": [
    "def separate(X_marks, X_spaces, labels_marks, labels_spaces):\n",
    "    X_marks = X_marks.reshape(-1)\n",
    "    X_spaces = X_spaces.reshape(-1)\n",
    "    labels_marks = np.array(labels_marks)\n",
    "    labels_spaces = np.array(labels_spaces)\n",
    "\n",
    "    durations = {}\n",
    "    for sym in marks_stypes + spaces_stypes:\n",
    "        is_on = sym in marks_stypes\n",
    "        label_lookup = label_lookup_marks if is_on else label_lookup_spaces\n",
    "        labels = labels_marks if is_on else labels_spaces\n",
    "        X = X_marks if is_on else X_spaces\n",
    "        durations[sym] = X[labels == label_lookup[sym]]\n",
    "    return durations\n",
    "\n",
    "\n"
   ],
   "metadata": {
    "collapsed": false,
    "ExecuteTime": {
     "end_time": "2024-03-12T21:42:43.624566596Z",
     "start_time": "2024-03-12T21:42:43.534666512Z"
    }
   },
   "id": "155cb0581803b9aa"
  },
  {
   "cell_type": "code",
   "execution_count": 18,
   "outputs": [
    {
     "data": {
      "text/plain": "{'.': array([0.43, 0.82, 0.82, ..., 0.38, 0.35, 0.57]),\n '-': array([4.8 , 4.62, 1.11, ..., 0.73, 2.95, 3.62]),\n 's': array([1.56, 0.77, 0.73, ..., 1.1 , 0.25, 1.47]),\n 'c': array([6.49, 2.94, 4.24, ..., 3.23, 3.38, 2.48]),\n '_': array([8.27, 6.36, 7.52, ..., 6.1 , 7.51, 8.11])}"
     },
     "execution_count": 18,
     "metadata": {},
     "output_type": "execute_result"
    }
   ],
   "source": [
    "durations = separate(X_marks, X_spaces, labels_marks, labels_spaces)\n",
    "durations"
   ],
   "metadata": {
    "collapsed": false,
    "ExecuteTime": {
     "end_time": "2024-03-12T21:42:43.640858056Z",
     "start_time": "2024-03-12T21:42:43.606663770Z"
    }
   },
   "id": "ef1bfa404aa1f613"
  },
  {
   "cell_type": "code",
   "execution_count": 19,
   "outputs": [
    {
     "data": {
      "text/plain": "{'.': array([0.43, 0.82, 0.82, ..., 0.38, 0.35, 0.57]),\n '-': array([4.8 , 4.62, 1.11, ..., 0.73, 2.95, 3.62]),\n 's': array([1.56, 0.77, 0.73, ..., 1.1 , 0.25, 1.47]),\n 'c': array([6.49, 2.94, 4.24, ..., 3.23, 3.38, 2.48]),\n '_': array([8.27, 6.36, 7.52, ..., 6.1 , 7.51, 8.11])}"
     },
     "execution_count": 19,
     "metadata": {},
     "output_type": "execute_result"
    }
   ],
   "source": [
    "durations = separate_durations_by_stype(train)\n",
    "durations"
   ],
   "metadata": {
    "collapsed": false,
    "ExecuteTime": {
     "end_time": "2024-03-12T21:42:44.064474223Z",
     "start_time": "2024-03-12T21:42:43.648494677Z"
    }
   },
   "id": "b308e76bfab62686"
  },
  {
   "cell_type": "code",
   "execution_count": 20,
   "outputs": [
    {
     "name": "stdout",
     "output_type": "stream",
     "text": [
      "Mean of . = 0.4967904724000458, min = 0.04, max = 3.55\n",
      "Mean of - = 2.750059411068363, min = 0.44, max = 10.59\n",
      "Mean of s = 1.0495787981549347, min = 0.07, max = 3.43\n",
      "Mean of c = 3.796677570271196, min = 0.79, max = 8.23\n",
      "Mean of _ = 6.417020836029507, min = 1.29, max = 12.01\n"
     ]
    }
   ],
   "source": [
    "for sym, dt in durations.items():\n",
    "    print(f\"Mean of {sym} = {np.mean(dt)}, min = {np.min(dt)}, max = {np.max(dt)}\")"
   ],
   "metadata": {
    "collapsed": false,
    "ExecuteTime": {
     "end_time": "2024-03-12T21:42:44.086165960Z",
     "start_time": "2024-03-12T21:42:44.065851442Z"
    }
   },
   "id": "2402f8622682ceae"
  },
  {
   "cell_type": "code",
   "execution_count": 24,
   "outputs": [
    {
     "data": {
      "text/plain": "<Figure size 640x480 with 1 Axes>",
      "image/png": "[encoded data removed]"
     },
     "metadata": {},
     "output_type": "display_data"
    }
   ],
   "source": [
    "plot_durations(durations, spaces_stypes)"
   ],
   "metadata": {
    "collapsed": false,
    "ExecuteTime": {
     "end_time": "2024-03-12T21:43:22.661359818Z",
     "start_time": "2024-03-12T21:43:22.318968788Z"
    }
   },
   "id": "54a22fdb0d41b2b6"
  },
  {
   "cell_type": "code",
   "execution_count": 20,
   "outputs": [],
   "source": [],
   "metadata": {
    "collapsed": false,
    "ExecuteTime": {
     "end_time": "2024-03-12T21:42:44.152584716Z",
     "start_time": "2024-03-12T21:42:44.079053896Z"
    }
   },
   "id": "b7068f0d97da825f"
  }
 ],
 "metadata": {
  "kernelspec": {
   "display_name": "Python 3",
   "language": "python",
   "name": "python3"
  },
  "language_info": {
   "codemirror_mode": {
    "name": "ipython",
    "version": 2
   },
   "file_extension": ".py",
   "mimetype": "text/x-python",
   "name": "python",
   "nbconvert_exporter": "python",
   "pygments_lexer": "ipython2",
   "version": "2.7.6"
  }
 },
 "nbformat": 4,
 "nbformat_minor": 5
}
