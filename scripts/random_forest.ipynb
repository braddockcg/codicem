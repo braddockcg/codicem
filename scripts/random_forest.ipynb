{
 "cells": [
  {
   "cell_type": "code",
   "execution_count": 160,
   "id": "initial_id",
   "metadata": {
    "collapsed": true,
    "ExecuteTime": {
     "end_time": "2024-03-12T16:34:16.891865409Z",
     "start_time": "2024-03-12T16:34:16.822802279Z"
    }
   },
   "outputs": [],
   "source": [
    "#from sklearn.mixture import GaussianMixture\n",
    "from sklearn.ensemble import RandomForestClassifier\n",
    "import numpy as np\n",
    "import joblib\n",
    "from typing import List, Tuple\n",
    "from copy import copy, deepcopy\n",
    "import sys\n",
    "\n",
    "from codicem.timings_type import *\n",
    "from codicem.util import *\n"
   ]
  },
  {
   "cell_type": "code",
   "execution_count": 114,
   "outputs": [
    {
     "data": {
      "text/plain": "(200000, 2000)"
     },
     "execution_count": 114,
     "metadata": {},
     "output_type": "execute_result"
    }
   ],
   "source": [
    "train, _ = load_timings_set(\"/home/braddock/expire/morse/new-train\", num_sets=200000)\n",
    "test, _ = load_timings_set(\"/home/braddock/expire/morse/new-test\")\n",
    "(len(train), len(test))"
   ],
   "metadata": {
    "collapsed": false,
    "ExecuteTime": {
     "end_time": "2024-03-12T15:48:51.629595131Z",
     "start_time": "2024-03-12T15:48:40.570939249Z"
    }
   },
   "id": "2e423f3a011f045f"
  },
  {
   "cell_type": "code",
   "execution_count": 35,
   "outputs": [],
   "source": [
    "marks_stypes = [DOT, DASH]\n",
    "spaces_stypes = [SYM_SPACE, CHAR_SPACE, WORD_SPACE]\n",
    "label_lookup_marks = {stype: i for i, stype in enumerate(marks_stypes)}\n",
    "stype_lookup_marks = {i: stype for i, stype in enumerate(marks_stypes)}\n",
    "label_lookup_spaces = {stype: i for i, stype in enumerate(spaces_stypes)}\n",
    "stype_lookup_spaces = {i: stype for i, stype in enumerate(spaces_stypes)}\n",
    "\n",
    "def prep_data(timings_set, is_on):\n",
    "    label_lookup = label_lookup_marks if is_on else label_lookup_spaces\n",
    "    timings = [t for timings in timings_set for t in timings if t.is_on == is_on]\n",
    "    durations = [t.duration for t in timings]\n",
    "    labels = [label_lookup[t.stype] for t in timings]\n",
    "    X = np.array(durations).reshape(-1, 1)\n",
    "    return X, labels\n",
    "    \n"
   ],
   "metadata": {
    "collapsed": false,
    "ExecuteTime": {
     "end_time": "2024-03-12T13:50:42.181281983Z",
     "start_time": "2024-03-12T13:50:42.156193690Z"
    }
   },
   "id": "cc947fb52e63bd1e"
  },
  {
   "cell_type": "code",
   "execution_count": 36,
   "outputs": [],
   "source": [
    "X_marks, labels_marks = prep_data(train, True)\n",
    "X_spaces, labels_spaces = prep_data(train, False)"
   ],
   "metadata": {
    "collapsed": false,
    "ExecuteTime": {
     "end_time": "2024-03-12T13:50:45.136951084Z",
     "start_time": "2024-03-12T13:50:42.929177291Z"
    }
   },
   "id": "b60e133a7272e13b"
  },
  {
   "cell_type": "code",
   "execution_count": 38,
   "outputs": [
    {
     "data": {
      "text/plain": "array([[4.8 ],\n       [0.43],\n       [0.82],\n       [0.82],\n       [0.37],\n       [0.42],\n       [0.46],\n       [4.62],\n       [1.11],\n       [0.74]])"
     },
     "execution_count": 38,
     "metadata": {},
     "output_type": "execute_result"
    }
   ],
   "source": [
    "X_marks[:10]"
   ],
   "metadata": {
    "collapsed": false,
    "ExecuteTime": {
     "end_time": "2024-03-12T13:50:58.430278848Z",
     "start_time": "2024-03-12T13:50:58.378743335Z"
    }
   },
   "id": "18d59b1aaf51f58c"
  },
  {
   "cell_type": "code",
   "execution_count": 39,
   "outputs": [],
   "source": [
    "rf_marks = RandomForestClassifier(n_estimators=10)\n",
    "rf_spaces = RandomForestClassifier(n_estimators=10)"
   ],
   "metadata": {
    "collapsed": false,
    "ExecuteTime": {
     "end_time": "2024-03-12T13:51:00.265079403Z",
     "start_time": "2024-03-12T13:51:00.243624629Z"
    }
   },
   "id": "df717ed31290577b"
  },
  {
   "cell_type": "code",
   "execution_count": 40,
   "outputs": [
    {
     "data": {
      "text/plain": "RandomForestClassifier(n_estimators=10)",
      "text/html": "<style>#sk-container-id-4 {\n  /* Definition of color scheme common for light and dark mode */\n  --sklearn-color-text: black;\n  --sklearn-color-line: gray;\n  /* Definition of color scheme for unfitted estimators */\n  --sklearn-color-unfitted-level-0: #fff5e6;\n  --sklearn-color-unfitted-level-1: #f6e4d2;\n  --sklearn-color-unfitted-level-2: #ffe0b3;\n  --sklearn-color-unfitted-level-3: chocolate;\n  /* Definition of color scheme for fitted estimators */\n  --sklearn-color-fitted-level-0: #f0f8ff;\n  --sklearn-color-fitted-level-1: #d4ebff;\n  --sklearn-color-fitted-level-2: #b3dbfd;\n  --sklearn-color-fitted-level-3: cornflowerblue;\n\n  /* Specific color for light theme */\n  --sklearn-color-text-on-default-background: var(--sg-text-color, var(--theme-code-foreground, var(--jp-content-font-color1, black)));\n  --sklearn-color-background: var(--sg-background-color, var(--theme-background, var(--jp-layout-color0, white)));\n  --sklearn-color-border-box: var(--sg-text-color, var(--theme-code-foreground, var(--jp-content-font-color1, black)));\n  --sklearn-color-icon: #696969;\n\n  @media (prefers-color-scheme: dark) {\n    /* Redefinition of color scheme for dark theme */\n    --sklearn-color-text-on-default-background: var(--sg-text-color, var(--theme-code-foreground, var(--jp-content-font-color1, white)));\n    --sklearn-color-background: var(--sg-background-color, var(--theme-background, var(--jp-layout-color0, #111)));\n    --sklearn-color-border-box: var(--sg-text-color, var(--theme-code-foreground, var(--jp-content-font-color1, white)));\n    --sklearn-color-icon: #878787;\n  }\n}\n\n#sk-container-id-4 {\n  color: var(--sklearn-color-text);\n}\n\n#sk-container-id-4 pre {\n  padding: 0;\n}\n\n#sk-container-id-4 input.sk-hidden--visually {\n  border: 0;\n  clip: rect(1px 1px 1px 1px);\n  clip: rect(1px, 1px, 1px, 1px);\n  height: 1px;\n  margin: -1px;\n  overflow: hidden;\n  padding: 0;\n  position: absolute;\n  width: 1px;\n}\n\n#sk-container-id-4 div.sk-dashed-wrapped {\n  border: 1px dashed var(--sklearn-color-line);\n  margin: 0 0.4em 0.5em 0.4em;\n  box-sizing: border-box;\n  padding-bottom: 0.4em;\n  background-color: var(--sklearn-color-background);\n}\n\n#sk-container-id-4 div.sk-container {\n  /* jupyter's `normalize.less` sets `[hidden] { display: none; }`\n     but bootstrap.min.css set `[hidden] { display: none !important; }`\n     so we also need the `!important` here to be able to override the\n     default hidden behavior on the sphinx rendered scikit-learn.org.\n     See: https://github.com/scikit-learn/scikit-learn/issues/21755 */\n  display: inline-block !important;\n  position: relative;\n}\n\n#sk-container-id-4 div.sk-text-repr-fallback {\n  display: none;\n}\n\ndiv.sk-parallel-item,\ndiv.sk-serial,\ndiv.sk-item {\n  /* draw centered vertical line to link estimators */\n  background-image: linear-gradient(var(--sklearn-color-text-on-default-background), var(--sklearn-color-text-on-default-background));\n  background-size: 2px 100%;\n  background-repeat: no-repeat;\n  background-position: center center;\n}\n\n/* Parallel-specific style estimator block */\n\n#sk-container-id-4 div.sk-parallel-item::after {\n  content: \"\";\n  width: 100%;\n  border-bottom: 2px solid var(--sklearn-color-text-on-default-background);\n  flex-grow: 1;\n}\n\n#sk-container-id-4 div.sk-parallel {\n  display: flex;\n  align-items: stretch;\n  justify-content: center;\n  background-color: var(--sklearn-color-background);\n  position: relative;\n}\n\n#sk-container-id-4 div.sk-parallel-item {\n  display: flex;\n  flex-direction: column;\n}\n\n#sk-container-id-4 div.sk-parallel-item:first-child::after {\n  align-self: flex-end;\n  width: 50%;\n}\n\n#sk-container-id-4 div.sk-parallel-item:last-child::after {\n  align-self: flex-start;\n  width: 50%;\n}\n\n#sk-container-id-4 div.sk-parallel-item:only-child::after {\n  width: 0;\n}\n\n/* Serial-specific style estimator block */\n\n#sk-container-id-4 div.sk-serial {\n  display: flex;\n  flex-direction: column;\n  align-items: center;\n  background-color: var(--sklearn-color-background);\n  padding-right: 1em;\n  padding-left: 1em;\n}\n\n\n/* Toggleable style: style used for estimator/Pipeline/ColumnTransformer box that is\nclickable and can be expanded/collapsed.\n- Pipeline and ColumnTransformer use this feature and define the default style\n- Estimators will overwrite some part of the style using the `sk-estimator` class\n*/\n\n/* Pipeline and ColumnTransformer style (default) */\n\n#sk-container-id-4 div.sk-toggleable {\n  /* Default theme specific background. It is overwritten whether we have a\n  specific estimator or a Pipeline/ColumnTransformer */\n  background-color: var(--sklearn-color-background);\n}\n\n/* Toggleable label */\n#sk-container-id-4 label.sk-toggleable__label {\n  cursor: pointer;\n  display: block;\n  width: 100%;\n  margin-bottom: 0;\n  padding: 0.5em;\n  box-sizing: border-box;\n  text-align: center;\n}\n\n#sk-container-id-4 label.sk-toggleable__label-arrow:before {\n  /* Arrow on the left of the label */\n  content: \"▸\";\n  float: left;\n  margin-right: 0.25em;\n  color: var(--sklearn-color-icon);\n}\n\n#sk-container-id-4 label.sk-toggleable__label-arrow:hover:before {\n  color: var(--sklearn-color-text);\n}\n\n/* Toggleable content - dropdown */\n\n#sk-container-id-4 div.sk-toggleable__content {\n  max-height: 0;\n  max-width: 0;\n  overflow: hidden;\n  text-align: left;\n  /* unfitted */\n  background-color: var(--sklearn-color-unfitted-level-0);\n}\n\n#sk-container-id-4 div.sk-toggleable__content.fitted {\n  /* fitted */\n  background-color: var(--sklearn-color-fitted-level-0);\n}\n\n#sk-container-id-4 div.sk-toggleable__content pre {\n  margin: 0.2em;\n  border-radius: 0.25em;\n  color: var(--sklearn-color-text);\n  /* unfitted */\n  background-color: var(--sklearn-color-unfitted-level-0);\n}\n\n#sk-container-id-4 div.sk-toggleable__content.fitted pre {\n  /* unfitted */\n  background-color: var(--sklearn-color-fitted-level-0);\n}\n\n#sk-container-id-4 input.sk-toggleable__control:checked~div.sk-toggleable__content {\n  /* Expand drop-down */\n  max-height: 200px;\n  max-width: 100%;\n  overflow: auto;\n}\n\n#sk-container-id-4 input.sk-toggleable__control:checked~label.sk-toggleable__label-arrow:before {\n  content: \"▾\";\n}\n\n/* Pipeline/ColumnTransformer-specific style */\n\n#sk-container-id-4 div.sk-label input.sk-toggleable__control:checked~label.sk-toggleable__label {\n  color: var(--sklearn-color-text);\n  background-color: var(--sklearn-color-unfitted-level-2);\n}\n\n#sk-container-id-4 div.sk-label.fitted input.sk-toggleable__control:checked~label.sk-toggleable__label {\n  background-color: var(--sklearn-color-fitted-level-2);\n}\n\n/* Estimator-specific style */\n\n/* Colorize estimator box */\n#sk-container-id-4 div.sk-estimator input.sk-toggleable__control:checked~label.sk-toggleable__label {\n  /* unfitted */\n  background-color: var(--sklearn-color-unfitted-level-2);\n}\n\n#sk-container-id-4 div.sk-estimator.fitted input.sk-toggleable__control:checked~label.sk-toggleable__label {\n  /* fitted */\n  background-color: var(--sklearn-color-fitted-level-2);\n}\n\n#sk-container-id-4 div.sk-label label.sk-toggleable__label,\n#sk-container-id-4 div.sk-label label {\n  /* The background is the default theme color */\n  color: var(--sklearn-color-text-on-default-background);\n}\n\n/* On hover, darken the color of the background */\n#sk-container-id-4 div.sk-label:hover label.sk-toggleable__label {\n  color: var(--sklearn-color-text);\n  background-color: var(--sklearn-color-unfitted-level-2);\n}\n\n/* Label box, darken color on hover, fitted */\n#sk-container-id-4 div.sk-label.fitted:hover label.sk-toggleable__label.fitted {\n  color: var(--sklearn-color-text);\n  background-color: var(--sklearn-color-fitted-level-2);\n}\n\n/* Estimator label */\n\n#sk-container-id-4 div.sk-label label {\n  font-family: monospace;\n  font-weight: bold;\n  display: inline-block;\n  line-height: 1.2em;\n}\n\n#sk-container-id-4 div.sk-label-container {\n  text-align: center;\n}\n\n/* Estimator-specific */\n#sk-container-id-4 div.sk-estimator {\n  font-family: monospace;\n  border: 1px dotted var(--sklearn-color-border-box);\n  border-radius: 0.25em;\n  box-sizing: border-box;\n  margin-bottom: 0.5em;\n  /* unfitted */\n  background-color: var(--sklearn-color-unfitted-level-0);\n}\n\n#sk-container-id-4 div.sk-estimator.fitted {\n  /* fitted */\n  background-color: var(--sklearn-color-fitted-level-0);\n}\n\n/* on hover */\n#sk-container-id-4 div.sk-estimator:hover {\n  /* unfitted */\n  background-color: var(--sklearn-color-unfitted-level-2);\n}\n\n#sk-container-id-4 div.sk-estimator.fitted:hover {\n  /* fitted */\n  background-color: var(--sklearn-color-fitted-level-2);\n}\n\n/* Specification for estimator info (e.g. \"i\" and \"?\") */\n\n/* Common style for \"i\" and \"?\" */\n\n.sk-estimator-doc-link,\na:link.sk-estimator-doc-link,\na:visited.sk-estimator-doc-link {\n  float: right;\n  font-size: smaller;\n  line-height: 1em;\n  font-family: monospace;\n  background-color: var(--sklearn-color-background);\n  border-radius: 1em;\n  height: 1em;\n  width: 1em;\n  text-decoration: none !important;\n  margin-left: 1ex;\n  /* unfitted */\n  border: var(--sklearn-color-unfitted-level-1) 1pt solid;\n  color: var(--sklearn-color-unfitted-level-1);\n}\n\n.sk-estimator-doc-link.fitted,\na:link.sk-estimator-doc-link.fitted,\na:visited.sk-estimator-doc-link.fitted {\n  /* fitted */\n  border: var(--sklearn-color-fitted-level-1) 1pt solid;\n  color: var(--sklearn-color-fitted-level-1);\n}\n\n/* On hover */\ndiv.sk-estimator:hover .sk-estimator-doc-link:hover,\n.sk-estimator-doc-link:hover,\ndiv.sk-label-container:hover .sk-estimator-doc-link:hover,\n.sk-estimator-doc-link:hover {\n  /* unfitted */\n  background-color: var(--sklearn-color-unfitted-level-3);\n  color: var(--sklearn-color-background);\n  text-decoration: none;\n}\n\ndiv.sk-estimator.fitted:hover .sk-estimator-doc-link.fitted:hover,\n.sk-estimator-doc-link.fitted:hover,\ndiv.sk-label-container:hover .sk-estimator-doc-link.fitted:hover,\n.sk-estimator-doc-link.fitted:hover {\n  /* fitted */\n  background-color: var(--sklearn-color-fitted-level-3);\n  color: var(--sklearn-color-background);\n  text-decoration: none;\n}\n\n/* Span, style for the box shown on hovering the info icon */\n.sk-estimator-doc-link span {\n  display: none;\n  z-index: 9999;\n  position: relative;\n  font-weight: normal;\n  right: .2ex;\n  padding: .5ex;\n  margin: .5ex;\n  width: min-content;\n  min-width: 20ex;\n  max-width: 50ex;\n  color: var(--sklearn-color-text);\n  box-shadow: 2pt 2pt 4pt #999;\n  /* unfitted */\n  background: var(--sklearn-color-unfitted-level-0);\n  border: .5pt solid var(--sklearn-color-unfitted-level-3);\n}\n\n.sk-estimator-doc-link.fitted span {\n  /* fitted */\n  background: var(--sklearn-color-fitted-level-0);\n  border: var(--sklearn-color-fitted-level-3);\n}\n\n.sk-estimator-doc-link:hover span {\n  display: block;\n}\n\n/* \"?\"-specific style due to the `<a>` HTML tag */\n\n#sk-container-id-4 a.estimator_doc_link {\n  float: right;\n  font-size: 1rem;\n  line-height: 1em;\n  font-family: monospace;\n  background-color: var(--sklearn-color-background);\n  border-radius: 1rem;\n  height: 1rem;\n  width: 1rem;\n  text-decoration: none;\n  /* unfitted */\n  color: var(--sklearn-color-unfitted-level-1);\n  border: var(--sklearn-color-unfitted-level-1) 1pt solid;\n}\n\n#sk-container-id-4 a.estimator_doc_link.fitted {\n  /* fitted */\n  border: var(--sklearn-color-fitted-level-1) 1pt solid;\n  color: var(--sklearn-color-fitted-level-1);\n}\n\n/* On hover */\n#sk-container-id-4 a.estimator_doc_link:hover {\n  /* unfitted */\n  background-color: var(--sklearn-color-unfitted-level-3);\n  color: var(--sklearn-color-background);\n  text-decoration: none;\n}\n\n#sk-container-id-4 a.estimator_doc_link.fitted:hover {\n  /* fitted */\n  background-color: var(--sklearn-color-fitted-level-3);\n}\n</style><div id=\"sk-container-id-4\" class=\"sk-top-container\"><div class=\"sk-text-repr-fallback\"><pre>RandomForestClassifier(n_estimators=10)</pre><b>In a Jupyter environment, please rerun this cell to show the HTML representation or trust the notebook. <br />On GitHub, the HTML representation is unable to render, please try loading this page with nbviewer.org.</b></div><div class=\"sk-container\" hidden><div class=\"sk-item\"><div class=\"sk-estimator fitted sk-toggleable\"><input class=\"sk-toggleable__control sk-hidden--visually\" id=\"sk-estimator-id-4\" type=\"checkbox\" checked><label for=\"sk-estimator-id-4\" class=\"sk-toggleable__label fitted sk-toggleable__label-arrow fitted\">&nbsp;&nbsp;RandomForestClassifier<a class=\"sk-estimator-doc-link fitted\" rel=\"noreferrer\" target=\"_blank\" href=\"https://scikit-learn.org/1.4/modules/generated/sklearn.ensemble.RandomForestClassifier.html\">?<span>Documentation for RandomForestClassifier</span></a><span class=\"sk-estimator-doc-link fitted\">i<span>Fitted</span></span></label><div class=\"sk-toggleable__content fitted\"><pre>RandomForestClassifier(n_estimators=10)</pre></div> </div></div></div></div>"
     },
     "execution_count": 40,
     "metadata": {},
     "output_type": "execute_result"
    }
   ],
   "source": [
    "rf_marks.fit(X_marks, labels_marks)\n",
    "rf_spaces.fit(X_spaces, labels_spaces)"
   ],
   "metadata": {
    "collapsed": false,
    "ExecuteTime": {
     "end_time": "2024-03-12T13:51:49.401404222Z",
     "start_time": "2024-03-12T13:51:01.476024021Z"
    }
   },
   "id": "e676fe489960ddee"
  },
  {
   "cell_type": "code",
   "execution_count": 15,
   "outputs": [
    {
     "data": {
      "text/plain": "['rf.joblib']"
     },
     "execution_count": 15,
     "metadata": {},
     "output_type": "execute_result"
    }
   ],
   "source": [
    "joblib.dump([rf_marks, rf_spaces], \"rf.joblib\")"
   ],
   "metadata": {
    "collapsed": false,
    "ExecuteTime": {
     "end_time": "2024-03-12T02:55:24.554029104Z",
     "start_time": "2024-03-12T02:55:24.419126333Z"
    }
   },
   "id": "a07b28a184a6ba29"
  },
  {
   "cell_type": "code",
   "execution_count": 41,
   "outputs": [],
   "source": [
    "test_marks, test_labels_marks = prep_data(test, True)\n",
    "test_spaces, test_labels_spaces = prep_data(test, False)"
   ],
   "metadata": {
    "collapsed": false,
    "ExecuteTime": {
     "end_time": "2024-03-12T13:52:18.141065008Z",
     "start_time": "2024-03-12T13:52:18.095905582Z"
    }
   },
   "id": "f075c5d2ab02f3b5"
  },
  {
   "cell_type": "code",
   "execution_count": 42,
   "outputs": [],
   "source": [
    "predicted_marks = rf_marks.predict(test_marks)\n",
    "predicted_spaces = rf_spaces.predict(test_spaces)\n"
   ],
   "metadata": {
    "collapsed": false,
    "ExecuteTime": {
     "end_time": "2024-03-12T13:52:24.181260420Z",
     "start_time": "2024-03-12T13:52:24.120774170Z"
    }
   },
   "id": "848b49c2fcceae68"
  },
  {
   "cell_type": "code",
   "execution_count": 45,
   "outputs": [
    {
     "data": {
      "text/plain": "(array([0, 0, 0, 0, 0, 1, 0, 0, 1, 0, 0, 0, 1, 0, 0, 0, 0, 0, 0, 0]),\n [0, 0, 0, 0, 0, 1, 0, 0, 1, 0, 0, 0, 1, 0, 0, 0, 1, 0, 0, 0])"
     },
     "execution_count": 45,
     "metadata": {},
     "output_type": "execute_result"
    }
   ],
   "source": [
    "predicted_spaces[:20], test_labels_spaces[:20]"
   ],
   "metadata": {
    "collapsed": false,
    "ExecuteTime": {
     "end_time": "2024-03-12T13:52:51.569350162Z",
     "start_time": "2024-03-12T13:52:51.489511778Z"
    }
   },
   "id": "ba7a3b7266844e75"
  },
  {
   "cell_type": "code",
   "execution_count": 157,
   "outputs": [
    {
     "name": "stdout",
     "output_type": "stream",
     "text": [
      "Marks accuracy: 0.9505111606353249  Spaces accuracy: 0.9640883977900553\n"
     ]
    }
   ],
   "source": [
    "marks_accuracy = np.mean(predicted_marks == test_labels_marks)\n",
    "spaces_accuracy = np.mean(predicted_spaces == test_labels_spaces)\n",
    "print(\"Marks accuracy:\", marks_accuracy, \" Spaces accuracy:\", spaces_accuracy)"
   ],
   "metadata": {
    "collapsed": false,
    "ExecuteTime": {
     "end_time": "2024-03-12T16:30:02.706261744Z",
     "start_time": "2024-03-12T16:30:02.642702869Z"
    }
   },
   "id": "e18333935c10b264"
  },
  {
   "cell_type": "code",
   "execution_count": 11,
   "outputs": [],
   "source": [
    "# Random forest with 100 estimators and 200,000 training sets\n",
    "# Marks accuracy: 0.9505111606353249  Spaces accuracy: 0.9640883977900553\n",
    "# Random forest with 20 estimators and 200,000 training sets\n",
    "# Marks accuracy: 0.9505111606353249  Spaces accuracy: 0.9640525220635718"
   ],
   "metadata": {
    "collapsed": false,
    "ExecuteTime": {
     "end_time": "2024-03-12T02:49:31.093161580Z",
     "start_time": "2024-03-12T02:49:31.064346874Z"
    }
   },
   "id": "b2af85070ce01a"
  },
  {
   "cell_type": "code",
   "execution_count": 190,
   "outputs": [
    {
     "name": "stdout",
     "output_type": "stream",
     "text": [
      "['.----', '.--', '..-']\n"
     ]
    }
   ],
   "source": [
    "def predicted2timings(timing_set, predicted_marks, predicted_spaces):\n",
    "    m = predicted_marks.tolist()\n",
    "    s = predicted_spaces.tolist()\n",
    "    out_set = []\n",
    "    for timings in timing_set:\n",
    "        labeled_timings = []\n",
    "        assert len(m) and len(s)\n",
    "        for t in timings:\n",
    "            if t.is_on:\n",
    "                stype = stype_lookup_marks[m.pop(0)]\n",
    "            else:\n",
    "                stype = stype_lookup_spaces[s.pop(0)]\n",
    "            timing_copy = deepcopy(t)\n",
    "            timing_copy.stype = stype\n",
    "            timing_copy.label = '~'\n",
    "            labeled_timings.append(timing_copy)\n",
    "        out_set.append(labeled_timings)\n",
    "    return out_set\n",
    "        \n",
    "\n",
    "def timings2dashdots(timings: List[Timing]) -> Tuple[str, List[Timing]]:\n",
    "    dd = []\n",
    "    sym = ''\n",
    "    new_timings = []\n",
    "    for t in timings:\n",
    "        new_timings.append(copy(t))\n",
    "        new_timings[-1].label = '~'\n",
    "        if t.stype == DOT:\n",
    "            sym += '.'\n",
    "        elif t.stype == DASH:\n",
    "            sym += '-'\n",
    "        elif t.stype == WORD_SPACE:\n",
    "            if len(sym) > 0:\n",
    "                dd.append(sym)\n",
    "                try:\n",
    "                    new_timings[-1].label = dashdot2char(sym) + ' '\n",
    "                except KeyError as e:\n",
    "                    new_timings[-1].label = ' '\n",
    "            dd.append(' ')\n",
    "        elif t.stype == CHAR_SPACE:\n",
    "            dd.append(sym)\n",
    "            sym = ''\n",
    "        elif t.stype == SYM_SPACE:\n",
    "            pass\n",
    "        else:\n",
    "            raise ValueError(f\"Unknown stype {t.stype}\")\n",
    "        \n",
    "    return dd, new_timings\n",
    "\n",
    "def dashdots2string(dashdots: List[str]) -> str:\n",
    "    s = ''\n",
    "    for dd in dashdots:\n",
    "        try:\n",
    "            c = dashdot2char(dd)\n",
    "        except KeyError as e:\n",
    "            c = '~'\n",
    "        s += c\n",
    "    return s\n",
    "\n",
    "\n",
    "def score_timing_sets(reference: List[List[Timing]], predicted: List[List[Timing]]):\n",
    "    if len(reference) != len(predicted):\n",
    "        raise ValueError(\"len(reference) != len(predicted)\")\n",
    "    correct = []\n",
    "    for ref, pred in zip(reference, predicted):\n",
    "        if ref[-1].label == pred[-1].label:\n",
    "            correct.append(1)\n",
    "        else:\n",
    "            print(f\"{timings2dashdots(ref)[0]} vs {timings2dashdots(pred)[0]}\")\n",
    "            correct.append(0)\n",
    "    return correct \n",
    "\n",
    "dd, _ = timings2dashdots(train[10])\n",
    "print(dd)\n",
    "\n",
    "#dashdots2string(dd), dd, ''.join([t.label for t in train[10]])"
   ],
   "metadata": {
    "collapsed": false,
    "ExecuteTime": {
     "end_time": "2024-03-12T17:00:57.708788315Z",
     "start_time": "2024-03-12T17:00:57.645536906Z"
    }
   },
   "id": "7923c456ca744bf6"
  },
  {
   "cell_type": "code",
   "execution_count": 191,
   "outputs": [
    {
     "name": "stdout",
     "output_type": "stream",
     "text": [
      "['.-.-.-', '...', '.-..', '-.-.'] vs ['.-.-.-', '...', '.-..']\n",
      "['-....', '--..--', '--..', ' '] vs ['-....', '--..--', '--..']\n",
      "['-..-', '---', '.--.', '--'] vs ['-..-', '---', '.--.', '--']\n",
      "['.--.', '--..--', '--.', '.-'] vs ['.--.', '--...-', '--.', '.-']\n",
      "['.-..', '..', '.', '-'] vs ['.-..', '-.', '-', '-']\n",
      "['-.-', ' ', '-.--....', '-....-'] vs ['-.-', '-....', '-....-']\n",
      "[' ', '--.', '-.-.'] vs ['', '.-.-.-.']\n",
      "['...-', '--..', '----.', '-....'] vs ['...-', '.-..', '----.', '-....']\n",
      "['---', '-....-', '.....', '-----'] vs ['---', '-....-', '.....', '-----']\n",
      "['.-..', ' ', '.-..-....-', '-.-.'] vs ['.-..', ' ', '.-..-....-']\n",
      "['..---', '.--.', ' ', '.--......'] vs ['..---', '.--.', '.....']\n",
      "[' ', '-.--', '-..-', '--'] vs ['', '-.--']\n",
      "['.--.-.', ' ', '.--.-..----', '--'] vs ['.-..-.', ' ', '.-..-..-..-', '--']\n",
      "['--.-', ' ', '--.-.--.-.', '.-..'] vs ['--.-', '.--...', '.-..']\n",
      "['-...', '....-', '-....-', '-----'] vs ['-...', '....-', '-....-', '-----']\n",
      "[' ', '---...', ' ', '---....-.-.-'] vs [' ', '---...', '.-.-.-']\n",
      "['....-', '---...', '-', '..-'] vs ['....-', '---...', '-', '..-']\n",
      "[' ', ' ', '.--.-.', ' '] vs ['', '', '.--.-.']\n",
      "['---', '--...', '.....', ' '] vs ['---', '--...', '.....']\n",
      "['...', '--.', '---..', ' '] vs ['...', '--.---..', ' ']\n",
      "['-.--', '.--.-.', '-.', '.--.-.'] vs ['..--', '.--.-.', '-.', '.--.-.']\n",
      "['.----.', '.-..', '.----', '---..'] vs ['.--.-.', '.-..', '.----', '---..']\n",
      "['-..', ' ', '-..', ' ', '-..--..--'] vs ['-..', '']\n",
      "['-.--', '.-.-.-', ' ', '.-.-.----'] vs ['-.--', '.-.-.-', ' ']\n",
      "['-.', '..---', '-...', '.----.'] vs ['..', '..---', '-....----.']\n",
      "['.-.-.-', '.--.', '-...', '.-..-.'] vs ['.-.-.-', '.--.', '-...', '.-..-.']\n",
      "['-', '-', '..---', '..---'] vs ['--..--...---']\n",
      "['...', '-.-.', '-.-', '--'] vs ['...', '-.-.', '-.-', '--']\n",
      "['..---', '...--', '-..-.', '----.'] vs ['..---', '....-', '-..-.', '----.']\n",
      "['.--', '---...', '-', '---'] vs ['.--', '---...', '-', '-.-']\n",
      "[' ', '-----', '.--.', '.-.-.-'] vs ['', '-----', '.--.', '.-.-.-']\n",
      "['-.--', '-..-.', '.----', '-..-'] vs ['-..-', '-..-.', '..---', '...-']\n",
      "['..---', '-....-', '-.-.', '----.'] vs ['..-.-', '-....-', '-.-.', '----.']\n",
      "['...', '--...', '.-.-.-', '-..-'] vs ['...', '--...', '.-.-.-', '-..-']\n",
      "['.--.-.', ' ', '.--.-...', ' '] vs ['.--.-.', '..']\n",
      "['.-..', '-..', '.', '.-'] vs ['.-..-...', '.-']\n",
      "['...--', '--..--', '.....', '-.-'] vs ['...--', '--..--', '.....', '-.-']\n",
      "[' ', '-...', '.--.-.', '---..'] vs [' ', '-...', '.--...', '---..']\n",
      "['.--.', '-....-', ' ', '-....--..-'] vs ['.--.', '-....-', ' ']\n",
      "['.--.-.', '..', '-....-', '--...'] vs ['.--.-.', '..', '-...--', '--...']\n",
      "['-----', '--..--', '-.', ' '] vs ['---..', '-...-.', '-.']\n",
      "['----.', '-.-', '---'] vs ['.---.', '-.-', '---']\n",
      "['-.-.', '.-', '...--', '-...'] vs ['-.-..-', '...--', '-...']\n",
      "['..-.', '....-', '.----.', ' '] vs ['..-.', '....-.----.', ' ']\n",
      "[' ', '---..', '--.', '.-'] vs ['', '--...', '--.', '.-']\n",
      "['..--..', '---', '....', '-..-.'] vs ['..--..', '---', '....', '-....']\n",
      "['.---', '.----', '.--.-.', '-'] vs ['.---', '.----.--.-.', '.']\n",
      "['--.-', '.---', '-.', ' '] vs ['--.-.----.', ' ']\n",
      "['..---', '-.--', '....', '...--'] vs ['..---', '-.--', '....', '...--']\n",
      "[' ', '---', '-..-', '-..'] vs [' ', '-.-']\n",
      "['.-..', '--', '--.', '.-'] vs ['.-..', '--', '--.']\n",
      "['...', '..-.', '--.', '-..-'] vs ['-..', '-.-.', '--.', '-..-']\n",
      "['-----', '...', '.--.-.', '....'] vs ['-----', '...', '.--.-.', '....']\n",
      "[' ', '...-', '---', ' '] vs ['', '...-', '---']\n",
      "['--..', '..---', '.', '-'] vs ['--..', '..---.', '-']\n",
      "[' ', '-..-.', ' ', '-..-.-.-.'] vs ['', '-....', '-.-.']\n",
      "['-..-.', '---..', '-..-.', '--.-'] vs ['-..-.', '---..', '-..-.', '--.-']\n",
      "[' ', '-....-', ' '] vs ['', '-...--']\n",
      "['-..-.', ' ', '-..-.--.-', '---..'] vs ['-..-.', '--.-', '---..']\n",
      "['.--', '-.-', '--.-', '-.'] vs ['.--', '-.-', '--.-', '..']\n",
      "['----.', '...--', '.--', '.-..'] vs ['----.', '...--', ' ', '...--.--', '.-..']\n",
      "['..-.', '--', '..---', '-.'] vs ['..-.', '-.', '..---', '-.']\n",
      "['...--', '-.-', '--.-', '.--.-.'] vs ['...--', '-.-', '.-.-', '.-..-.']\n",
      "['-', '-.-', '--..', '-....-'] vs ['-', '-.-', '-...', '-....-']\n",
      "['-.', '---...', '-....-', '-.-'] vs ['-.', '---...', '-....-', '-.-']\n",
      "['..---', ' ', '..---', ' ', '..-------.'] vs ['..-.-', '', '----.']\n",
      "['...--', '--.-', '.-.-.-', '.'] vs ['...--', '--.-', '.-.-.-', '.']\n",
      "['--..--', '---', '-..-.', '-..-.'] vs ['--..--', '---', '-..-.', '-..-.']\n",
      "['.---', '.', '.-..-.', '---...'] vs ['.---', '.', '.-..-.', '---...']\n",
      "['...--', '....-', '.', '-.-'] vs ['...--', '....-', '.', '-.-']\n",
      "['.----.', '.---', '-....-', '-....-'] vs ['.---..', '.--.', '-....-', '-....-']\n",
      "['---..', '---', '-----', '.--.-.'] vs ['---..', '---', '.-.--', '.-....']\n",
      "[' ', '.----', '.-..', '.--.-.'] vs [' ', '.----', '.-..', '.--.-.']\n",
      "['.--', '--..', '.', '--'] vs ['.--', '-...', '.', '-.']\n",
      "[' ', ' ', '---', '.-.-.-'] vs [' ', '', '---']\n",
      "['--.', '..---', '...-', '-'] vs ['--.', '..---', '...-', '-']\n",
      "[' ', '-....-', '--..', '----.'] vs [' ', '-....-', '--..', '--.-.']\n",
      "['-...', '.', ' ', '...---'] vs ['-...', '.', '..---']\n",
      "['-...', '..-.', ' '] vs ['-..-', '-.-.']\n",
      "['-..', '-.-', '....-', '.--'] vs ['-..', '-.-', '....-', '.--']\n",
      "['.', '-...', '.', '---...'] vs ['.', '-...', '.', '---...']\n",
      "['.-.', '---', '....-', '....'] vs ['.-.', '---', '..---', '....']\n",
      "['--..--', '-....', '.--', '--'] vs ['--..--', '-....', '.----']\n",
      "['.', '-----', '---..', '-..-'] vs ['.', '--------..', '-..-']\n",
      "['-..-', '-.', '.-..', '.-.-.-'] vs ['-..-', '-..-..', '.-.-.-']\n",
      "['.--.-.', '.-..-.', '...', '--..--'] vs ['.--.-.', '.-..-.', '...', '--..--']\n",
      "[' ', '---..', '.-', '..'] vs ['', '---..', '.-', '..']\n",
      "['-..-', '-----', '-.--', ' '] vs ['-...', '-----', '-.-.', ' ']\n",
      "['..-', '.', '-.', ' '] vs ['..-.', '-.']\n",
      "['--', '.-.-.-', '-', '--.-'] vs ['-..-.-.-', '-', '--..']\n",
      "['.', '-....', ' '] vs ['.', '-..-.']\n",
      "['--...', '-....-', '-----'] vs ['--..', '.', '-', '....-', '-----']\n",
      "['-.', '.-.-.-', '-....', '-.'] vs ['-..-.-.-', '-....', '-.']\n",
      "['.-..', '...', '..', '..-'] vs ['--.-', '.-.-.', '..-']\n",
      "['--.', '.----', '---..', '-...'] vs ['--.', '.----', '---..', '-...']\n",
      "['..--..', '...--', '.--.', '---..'] vs ['..--..', '...--', '.--.', '---..']\n",
      "['..--..', '-...', '--', '....-'] vs ['..--..', '-...', '--', '....-']\n",
      "['-..-', '-.-', ' '] vs ['-..--.-', ' ']\n",
      "['...-', '-...', '..---', '--...'] vs ['...-', '-...', '..---', '--...']\n",
      "['-....-', '..---', '-....', '.----.'] vs ['-....-', '..---', '-....', ' ', '-......---.']\n",
      "['-...', '-..-.', '-..-.', '..---'] vs ['-...', '-..-.', '-..-.', '..---']\n",
      "['--', '.--', '-....-', '-....'] vs ['--', '.--', '-....-', '-....']\n",
      "[' ', '.-.-.-', '-.', '.--'] vs [' ', '.-.-.-', '-..--']\n",
      "['...-', '.---', '..-', '.-..'] vs ['...-', '.---', '..-', '.-..']\n",
      "[' ', '.-.-.-', '---..', ' '] vs ['', '.-.-..---..', ' ']\n",
      "['-...', ' ', '-...', ' ', '-....-.-.-'] vs ['-...', '', '.-.-.-']\n",
      "['.....', '...--', '.--.-.', '-----'] vs ['.....', '...--', '.--.-.', '-----']\n",
      "['.-..-.', '.--.-.', '....-', '.-.-.-'] vs ['.-..-.', '.--...', ' ', '.--.......-', '.-.-', '.-']\n",
      "['--..', '.-..-.', '..-', '-..-.'] vs ['--..', '.-..-.', '..-', '-..-.']\n",
      "['.--.', '..', '.-..', '.-'] vs ['.--.', '..', '.-..', '.-']\n",
      "['...-', '--.-', '--.-', '-.--'] vs ['...-', '--.-', '--.-', '-.--']\n",
      "[' ', '.--', ' ', '.----...'] vs ['', '.--', '--...']\n",
      "[' ', '--.', '.----.', '...--'] vs [' ', '--.', '.----.', '...--']\n",
      "['.--', '.--', '-.--', '---'] vs ['.--...', '..--', '---']\n",
      "['.--', '--.-', '-.--', '--.'] vs ['.--', '--.-', '-..-', '--.']\n",
      "[' ', '.-', '..---', '--'] vs ['', '.-..---']\n",
      "['.----', '...', '-..-', '-.-.'] vs ['..---', '...', '-..-', '-.-.']\n",
      "['--', '-..', '-.-', '.-.-.-'] vs ['--', '-..', '-.-.-.-.-']\n",
      "['-..', ' ', '-..-....-', '--'] vs ['-..', '-....-']\n",
      "['--', '-..-.', '...--', '.----.'] vs ['.-', '-..-.', '...--', '.--.-.']\n",
      "['..---', '.---', '.-.-.-'] vs ['..---', '.---', '.-.-.-']\n",
      "['-.--', '.--', '...', '-.'] vs ['-.--', '.--', '...-.']\n",
      "['..', ' ', '.....--', '...--'] vs ['..', ' ', '.....--']\n",
      "['.----', '...', '-...'] vs ['.----', '...', '-...']\n",
      "['....', '----.', '.....', ' '] vs ['-...', '----.', '-....', ' ']\n",
      "['.....', '.---', '-.--', '-.-.'] vs ['.....', '.---', '-.--', '-.-.']\n",
      "['...', '-----', '.--.-.', '--'] vs ['...', '-----', '.--.-.', '--']\n",
      "[' ', '-', '..---', '...-'] vs ['', '-']\n",
      "['---', '...', '...-', '.-.'] vs ['---', '...', '...-', '.-.']\n",
      "['--.-', '--...', '-----', '...'] vs ['--.-', '--...', '-----', '...']\n",
      "['---..', '-...', '--.', '.-..'] vs ['---..', '-...', '--.']\n",
      "['---...', '-.-.', ' '] vs ['---...-.-.', ' ']\n",
      "['---...', '-..-.', ' ', '-..-..-..-.'] vs ['---...', '-..-.', ' ', '-..-..-..-.']\n",
      "['...-', ' ', '...--..', '-....-'] vs ['...-', ' ', '...--..', '-....-']\n",
      "['--...', '--', '..-', '-..-'] vs ['--...', '--', '..-', '-..-']\n",
      "['.-', '--..--', ' ', '--..--..-'] vs ['.-', '--..--', '..-']\n",
      "['---', '---...', '-', '--.-'] vs ['--.', '---...', '-', '--.-']\n",
      "['.', '.-..', ' ', '.-.....'] vs ['.----']\n",
      "['..-.', '---...', '.-', '.-.'] vs ['..-.', '---...', '.-', '.-.']\n",
      "['--..', '.--', '-.', '...--'] vs ['--..', '.--', '-.', '...--']\n",
      "['.--.-.', ' ', '.--.-..-..', '-....'] vs ['.--.-.', ' ', '.--.-..-..', '-....']\n",
      "['.', '--..--', '...--', '....-'] vs ['.--..--', '...--', '....-']\n",
      "['-.--', '.--.', '.-.', '--..--'] vs ['-.--', '..-.', '.-.', '--..--']\n",
      "['-....', '-..-.', '---...', '..--..'] vs ['-..-.', '-..-.', '---.-.', '..--..']\n",
      "[' ', '.--', '-', ' '] vs ['', '.---']\n",
      "[' ', '-', '---...', ' '] vs ['', '----...']\n",
      "['..--..', '.----', '---...', '-....-'] vs ['..--..', '.---.', '---...', '-....-']\n",
      "['-.-.', '--', '.--.', '..-'] vs ['..-.', '--', '.--.']\n",
      "['-.-.', '..---', '...-', '-.--'] vs ['-.-.', '..---', '...-', '-.--']\n",
      "['--.-', '-...', '...-', '.....'] vs ['--.-', '-...', '...-', '.....']\n",
      "['.-', '.--', '...-', '.--'] vs ['.-.--', '...-', '.--']\n",
      "['--.', '--..--', '-.-.', '.--.-.'] vs ['--.', '--..-.', '-.-.', '.--.-.']\n",
      "['---..', '---..', '.----', '.----.'] vs ['---..', '---..', '..---', '.----.']\n",
      "['..---', '--', '..---', '.----.'] vs ['..---', '-.', '..---', '.----.']\n",
      "['----.', '.--.-.', '-..-.', '....-'] vs ['----..--.-.', '...-.', '....-']\n",
      "['....-', '.--.', ' ', '.--....'] vs ['.-..-.--.', ' ']\n",
      "['.', '-.', '-.-', ' '] vs ['.', '-.-.-']\n",
      "['.-..', '.-..-.', '-..-', '--..--'] vs ['.-..', '.-..-.', '-..-', '--..--']\n",
      "[' ', '.----.', '.--', '.---'] vs [' ', '.----..--', '.--.']\n",
      "['-...', '....-', '-.', '.-..'] vs ['-.-.', '....-', '-.', '.-..']\n",
      "['--..--', '.-.-.-', '-.-', '.--'] vs ['--...-', '.-.-.-', '-.-', '.-.']\n",
      "['...--', '..---', '...--', '---..'] vs ['...--', '..---', '...--', '---..']\n",
      "['---', '-...', '-.--', '-..'] vs ['--.', '-...-.--', '-..']\n",
      "['---...', '..-', '---...', '.-.-.-'] vs ['---...', '..-', '-.-...', '.-.-.-']\n",
      "['---..', '..-', '..-', '-...'] vs ['---..', '..-', '..--...']\n",
      "['---', '....', '...', '-----'] vs ['--.', '.......', '-----']\n",
      "['.-.-.-', '-..-', '..-', '...-'] vs ['.-.-.-', '-..-', '..-', '...-']\n",
      "['-...', '-.-.', '.---', '-'] vs ['-...', '-.-.', '.----']\n",
      "[' ', '--...', '.-', '-.--'] vs ['', '--...', '.-']\n",
      "['-.-', '.--', '--..', ' '] vs ['-.-', '.--', '-...']\n",
      "['--..', '-..-.', '----.', '-..-'] vs ['--..', '-..-.', '----.', '-..-']\n",
      "['--', ' ', '------.', '.-.'] vs ['-.', ' ']\n",
      "[' ', '..', ' ', '..---...'] vs ['', '..', '---...']\n",
      "['...', '..-.', '...', '--'] vs ['.--', '.--.', '..-']\n",
      "['----.', '---', '--..--', ' '] vs ['----.', '---', '--..--']\n",
      "['.----.', '-', '-.-', '-.-.'] vs ['.--.-.-', '-.-', '....']\n",
      "['-....-', '..-.', '--..', ' '] vs ['-....-', '..-.', '--..']\n",
      "[' ', '...--', '-.-.', '.-..'] vs [' ', '...--', '-.-.']\n",
      "['...--', '.-..-.', '--', '.--.-.'] vs ['...--', '.-..-.', '--']\n",
      "['-..-.', '.-..', '....-', '..-'] vs ['-..-.', '.-..', '....-', '..-']\n",
      "['-..-', '..-', ' ', '..---..'] vs ['-..-', '..-', ' ']\n",
      "['--...', ' ', '--.....--..', '-.--'] vs ['--...', ' ', '--.....--..', '-.--']\n",
      "['-.--', '---..', '.--.', '.--.-.'] vs ['-.--', '--...', '.--.', '.--.-.']\n",
      "['-..-.', '-....', '.--.-.', '...-'] vs ['-..-.-....', '.--.-.', '...-']\n",
      "['.---', ' ', '.---.....', '..'] vs ['.---', ' ', '.---.....']\n",
      "[' ', '--', '.-..-.', '-----'] vs ['', '--', '.-..-.', '-----']\n",
      "['.....', '.-..', '.-.', '....-'] vs ['....-', '.---', '--.', '.-..-']\n",
      "['...-', '..', '.-.-.-', '.----'] vs ['...-', '..', '.-.-.-', '.--.-']\n",
      "['...', '--', '-..'] vs ['...', '---..']\n",
      "['.----.', '-....', '.----', '--.'] vs ['.----.', '-....', '.----', '--.']\n",
      "['..', '..', '--..--', '---...'] vs ['..', '..', '--..--', '---...']\n",
      "['.', ' ', '.-.-.', '.--'] vs ['.', '-.-..--']\n",
      "['..-', '...-', '.----.', '-..'] vs ['..-', '...-', '.--.-.', '-..']\n",
      "['.----.', '-----', '-..-', '-'] vs ['..-.-.', '-----', '...-', '-']\n",
      "['-..-.', '.--', '..-', '...--'] vs ['...-.', '.--', '..-', '...--']\n",
      "['---', '--.-', '--', '-.-'] vs ['---', '--.-', '--', '-..']\n",
      "['.-.', '-.-.', '-....-', '---'] vs ['.-.', '-.-.-....-', '---']\n",
      "['-..-', '...-', '.-.-.-', '---'] vs ['-..-', '...-', '.-.-.-', '---']\n",
      "['-.--', '-', '-...', '.-.-.-'] vs ['-.--', '.', '-...', '.-.-..']\n",
      "['---...', '-..', '....-'] vs ['---...', '-..', '....-']\n",
      "['...--', '...--', ' ', '...--', ' '] vs ['...--...--', ' ', '...--...--']\n",
      "['...', '....-', '-..-.', '---...'] vs ['...', '....-', '-..-.', '---...']\n",
      "[' ', '-.-', '..', '.---'] vs ['', '-.-', '..', '.---']\n",
      "['-----', '....', '...--', '-..-.'] vs ['-----', '....', '...--']\n",
      "['-.-.', '---..', '-.-', '...--'] vs ['-.-.', '---..', '-.-', '...--']\n",
      "['.....', '..---', '..-.', '--.-'] vs ['.....', '..---', '..-.', '--.-']\n",
      "['-..', ' ', '-..---...', '.-'] vs ['-..', '---...', '.-']\n",
      "['-.-', '..', '.-.', '-...'] vs ['-.-', '..', '.-.-...']\n",
      "['-.', '.....', '----.', '.'] vs ['-.', '.....', '----.']\n",
      "['....-', '-', '--.-', '-'] vs ['....-', '-', '--.-', '.']\n",
      "['--.-', '--...', '...--', ' '] vs ['-..-', '--...', '...--']\n",
      "['-....', '-....', '.--.-.', '..-'] vs ['-..-.', '-..-.', '.----.', '..-']\n",
      "['...', '--.', '.----.', '--'] vs ['...', '--.', '.----.', '--']\n",
      "[' ', '----.', ' '] vs ['', '--.-.']\n",
      "['-----', '-..', '.-.-.-', '.-..-.'] vs ['---.-', '-..', '.-...-']\n",
      "['--.-', '.----', '...', ' '] vs ['--.-', '.----', '...']\n",
      "['--', '-..-', '....', '-..-'] vs ['--', '-..-', '....-..-']\n",
      "['-..-.', '-..', '--.-', '-...'] vs ['-..-.', '-..--.-', '-...']\n",
      "['.--.-.', '-----', '----.', '-.-'] vs ['..-.-.', '-----', '----.', '-.-']\n",
      "['.----.', '.....', '.-', '--...'] vs ['.----.', '.....', '.-', '--...']\n",
      "['-.-.', '---', '.----', '....-'] vs ['-.-.', '---', '.----', '....-']\n",
      "['--..', '....-', ' ', '....--.'] vs ['---.', '.-.--', ' ', '.-.---.']\n",
      "['-', ' ', '--.-', '.---'] vs ['-', '-..', '.---']\n",
      "['..---', '..-', '.----.'] vs ['..---', '..-', '.----.']\n",
      "['-..', '-..-', '...', '....'] vs ['-..', '-..-', '.-.', '..-.']\n",
      "['.---', '--..', '-....', '-'] vs ['.---', '--..', '-....']\n",
      "['-...', '--.', '--.-', ' '] vs ['-...', '.-.--.-', ' ']\n",
      "['-----', '..', ' ', '..', ' '] vs ['.--.-..', '']\n",
      "['---', '...-', '--..', '-.--'] vs ['-.-....--..', '-.-.']\n",
      "['-.-', '----.', '...', '..-'] vs ['-.-', '----.', '...', '..-']\n",
      "['.-.', '-..', ' ', '-....--..'] vs ['--.-..', ' ', '--.-....--..']\n",
      "['.-..', '....-', '-.--', '---'] vs ['.-..', '....-', '-.--', '---']\n",
      "['--..--', '.---', '.----', '-..-.'] vs ['-...--', '.---.----', '-....']\n",
      "['-.--', '.-..-.', '--.-', '.-.'] vs ['-.--', '.-..-.', '--.-', '.-.']\n",
      "['-...', '.-..', '-....-', '-----'] vs ['-...', '.-..', '.....-', '-----']\n",
      "['---..', '.....', ' ', '.....', ' '] vs ['---.......', ' ']\n",
      "['---...', '.----', '.-.', '...'] vs ['---.....---', '...', '...']\n",
      "['.', '.-..-.', '-....-'] vs ['.', '.-..-.', '-...--']\n",
      "['.-.-.-', '-...', '.-..', '-.-'] vs ['.-.-.-', '-...', '.-..', '-.-']\n",
      "[' ', '-.-', ' '] vs ['', '-.-']\n",
      "[' ', '-..-.', '.-..', '---..'] vs ['', '-..-.', '.-..', '---..']\n",
      "['-.', '.....', '...', '---..'] vs ['-.', '.....', '...', '---..']\n",
      "['.', '...--', '.-.', '.----'] vs ['.', '...-.', '.-..----']\n",
      "['---', '-.-', '.-.', '....-'] vs ['---', '-.-', '.-.', '....-']\n",
      "['..-', '---..', '.', '-..'] vs ['..-', '---...', '-..']\n",
      "['-.', '.-.', '-..-', '-.--'] vs ['-.', '.-.', '-..-', '-.--']\n",
      "['--.', '--.', '.', '...-'] vs ['--.--.', '.', '...-']\n",
      "['.-..-.', '.-.', '....', '..---'] vs ['.-..-.', '.-.', '....', '..---']\n",
      "['--..', ' ', '--...----', '-..-.'] vs ['--..', ' ', '--...-----..-.']\n",
      "['..-.', '--..--', '-....-', '....-'] vs ['..-.', '--..---....-....-']\n",
      "['-..', '.-', '....-', '--...'] vs ['-..', '.-', '....-', '--...']\n",
      "['..-.', '-.-.', '--..--', '--...'] vs ['..-.', '-.-.', '--..--', '--...']\n",
      "['---', '..---', '-..-', '----.'] vs ['---', '..----..-', '--.-.']\n",
      "['.--.-.', '....', '-.', '.----.'] vs ['.--.-.', '....', '-.', '.---..']\n",
      "['.-.-.-', '-..-', '.-', '.-..-.'] vs ['.-.-.-', '-..-', ' ', '-..-.-', '....-.']\n",
      "['-.-', '.....', '-----', '.----.'] vs ['-.-', '.....', '-----', '.-.--.']\n",
      "['..', '--', '.----', ' '] vs ['..', '--.----']\n",
      "['---...', '.-', '--', '---...'] vs ['---...', '..', '--', '---...']\n",
      "['...--', '--.', '.-.-.-', ' '] vs ['...--', '--.', '.-.-.-']\n",
      "['....-', '--.-', ' ', '--.-...'] vs ['....-----', ' ']\n",
      "['--', '---...', '---', '-..-'] vs ['--', '---...', '---', '-..-']\n",
      "['---', '.-', '---', ' '] vs ['.--.-', '-.-', ' ']\n",
      "['--.-', '.--.', '---..'] vs ['--.-', '.--.', '---..']\n",
      "['-..-.', '-.--', '...-', ' '] vs ['-..-.', '-.--', '...-']\n",
      "['.-', ' ', '.-.----.', '--..--'] vs ['.-', ' ', '.-.--.-.', '--..--']\n",
      "[' ', '.-', '-..-', '..-.'] vs [' ', '.---.-', '..-.']\n",
      "['.--.', '-.-.', '----.', '.--.'] vs ['.--.', '-.-.', '----.', '.--.']\n",
      "['-....', '-..-.', '----.', '.-.-.-'] vs ['-....', '-..-.', '----.', '.-.-.-']\n",
      "['-', '--', '-...', '....'] vs ['-', '--', '-...', '....']\n",
      "['-...', '--..', '..---', ' '] vs ['-...', '--..', '..--.']\n",
      "[' ', '-.-.', ' ', '-.-..-.'] vs ['', '---.']\n",
      "['.----.', '.----.', '....', '.--.-.'] vs ['.----.', '.--', '--.', '.', '...', '.--.-.']\n",
      "['-.-.', '---...', '-..'] vs ['-.-.', '---...', '-..']\n",
      "['....-', '---', '---..', '..---'] vs ['....-', '---', '---..', '..---']\n",
      "['.----', '---..', ' ', '---....-'] vs ['..---', '---..', ' ', '---....-']\n",
      "['-.--', '..', ' '] vs ['-.--', '..']\n",
      "['-', ' ', '-.---', '.--.'] vs ['-', '.---.--.']\n",
      "[' ', '.....', '-.-.', '--...'] vs [' ', '.....-.--']\n",
      "['-.-', '....-', ' ', '....-.--.'] vs ['-.-', '....-', '.--.']\n",
      "[' ', '-...', '--.-', '--...'] vs ['', '-...', '--.-', '--...']\n",
      "['--...', '--.-', '.-.-.-', '-..-.'] vs ['--...', '-..-', '.-.-.-', '-..-.']\n",
      "['---...', '.-..-.', '...-', '.--.-.'] vs ['----..', '.-..-.', '...-', '.--.-.']\n",
      "['.----', '.-.-.-', '.-.-.-', '--'] vs ['.----', '.-.-.-', '.-.-.-', '--']\n",
      "['..-.', ' ', '..-.--...', '.--.'] vs ['..-.', '--..-', '.--.']\n",
      "['.---', '----.', '-..'] vs ['.---', '----.', '-..']\n",
      "['--...', '.-.', '-..', '...--'] vs ['--...', '.-.', '-..']\n",
      "[' ', '-----', '-.-.', '--...'] vs ['', '-----', '..-.', '--...']\n",
      "[' ', '..--..', '-..', ' '] vs ['', '..--..', '-..']\n",
      "['...--', ' ', '...--...', '---'] vs ['...--', '...']\n",
      "['..--..', '---', '....-', '-.-'] vs ['..--..---', '....--.-']\n",
      "['.', '-....', '-.', ' '] vs ['.-.-..', '-.']\n",
      "['-.-.', '.--.', ' ', '.--....'] vs ['-.-.', '.--.', '...']\n",
      "[' ', '-..-', '...', '-..-'] vs [' ', '-..-', '...']\n",
      "['.--.-.', '.-..', '-....', '-.--'] vs ['.--.-.', '.-..', '-....', '-.--']\n",
      "['-.', '----.', '-', '..---'] vs ['-.----.', '-']\n",
      "[' ', '.....', '.-..', '-.-.'] vs [' ', '....-', '.-..']\n",
      "['-....-', '....-', '...-', '..--..'] vs ['-....-', '....-', '...-', '..--..']\n",
      "['..--..', '....-', '-----', '-.--'] vs ['...-..', '....-', '-----', '-.--']\n",
      "['-....', '.--.', ' ', '.--.---...'] vs ['-.-..', '---.', ' ']\n",
      "[' ', '.-.-.-', '---...', '...'] vs [' ', '.-.-.-']\n",
      "['.---', '...--', '.-', '-..'] vs ['.---...--', '.-', '-..']\n",
      "['....-', '-....', '.....', '-.'] vs ['--.--', '-.-.-', '..--.-.']\n",
      "['---..', '-.-', ' '] vs ['.--..', '-.-']\n",
      "['-..', '.-.', '-.--', '-.-'] vs ['-..', '.-.', '-..-', '..-']\n",
      "[' ', '..--..', '.----.', '...-'] vs ['', '..--..', '.----.', '...-']\n",
      "['-...', '.-..-.', '-.-.', ' '] vs ['---.', '.-..--', '-.-.']\n",
      "[' ', '-....-', '.-', '-...'] vs ['', '-....-.-', '-...']\n",
      "['-...', '-...', '.--.', '....-'] vs ['-...', '-...', '.--.', '....-']\n",
      "['.--.', '--.', ' ', '--.....'] vs ['.--.', '--.', ' ', '--.....']\n",
      "['-----', '-...', '..---'] vs ['-----', '-.....---']\n",
      "['-...', '-..-.', '--..', '-----'] vs ['-...', '-..-.', '--..', '.-.--']\n",
      "['----.', '-..-', '.....', '--.'] vs ['---..', '-..-', '.....', '--.']\n",
      "['.-', '..-.', '-.--', '.----.'] vs ['.-', '..-.', '-.-.', '.---..']\n",
      "[' ', '.---', '-----', '.--.'] vs [' ', '.---', '-----', '.-..']\n",
      "['---', ' ', '---..-'] vs ['---', '..-']\n",
      "['--...', '--.', '.----', '-....-'] vs ['--...', '--.', '.----', '.....-']\n",
      "['..---', '.--', '-....', '--.-'] vs ['..---', '.--', '-....', '--..']\n",
      "['.----.', '-..-', ' ', '-..-....'] vs ['.----.-..-', ' ', '.----.-..-....']\n",
      "['---...', '..---', ' ', '..---.---'] vs ['---...', '..---', ' ', '..---.---']\n",
      "['..-.', ' ', '..-.--..--', '-....'] vs ['....', ' ', '....--..--', '-....']\n",
      "['.---', '---...', '-----', '-.-.'] vs ['.---', '---...', '-----', '-...']\n",
      "['--...', '---', '.----', '--..'] vs ['.....', '---', '.----', '.-..']\n",
      "['--..', '-..-', '.---', '--..'] vs ['--..', '...-', '.---', '--..']\n",
      "['...', '...-', '-....', '.'] vs ['...', '-..--.--.', '-']\n",
      "['.--.-.', '..--..', '..-', '.---'] vs ['.--.-.', '...-..', '..-', '.---']\n",
      "['---', '.-', '-..-', '.....'] vs ['--.', '.-', '-..-', '.....']\n",
      "['....', '..---', '.-.-.-', '...'] vs ['....', '..---', '.-.-.-', '...']\n",
      "['.-..-.', '-----', ' ', '------..-'] vs ['.-..-.', '-----', ' ']\n",
      "[' ', '....', '.-.', '-.-'] vs ['', '....', '.-.', '-.-']\n",
      "['...', '...-', '.--.-.', ' '] vs ['..-...-', '---.-.', ' ']\n",
      "['.-.', '.----', '.-..-.'] vs ['.-.', '.----', '.-..-.']\n",
      "['-.-', '--.', '..--..', '..-.'] vs ['-.-', '--.', '..--..', '..-.']\n",
      "['.--', '..-.', '.---', '...-'] vs ['.--', '..-.', '.---', '...-']\n",
      "['..-', '.....', '-', '.----'] vs ['..-', '.....', '-', '.----']\n",
      "['...', '..-', '.-..', ' '] vs ['...', '---', '.-.-', ' ']\n",
      "[' ', '--.-', ' ', '--.---'] vs ['', '--.-', '--']\n",
      "['---..', '...', '--.-', '..-'] vs ['---..', '...', '--.-', '..-']\n",
      "['.---', '..---', '-.', '-...'] vs ['.---', '..---', '-.', '-...']\n",
      "['.-..', '.-.', '..-.', '-.-.'] vs ['.-..', '.-.', '..-.', '-.-.']\n",
      "[' ', ' ', ' ', '--...'] vs ['', '', '']\n",
      "['....-', '...--', '.--', '---..'] vs ['....-', '...--', '.--', '---..']\n",
      "[' ', '.-.-.-', ' ', '.-.-.------'] vs ['', '.-.-.-', '.----']\n",
      "['....', ' ', '.....-..-.', '...-'] vs ['.--.', ' ', '.--.--.---', '...-']\n",
      "['-..', '-....-', '-.-.', '-..-.'] vs ['-..', '-....-', '-.-.', '-..-.']\n",
      "['-.-.', '-....', '-.--', '..'] vs ['-.-.', '-....', '-.--', '..']\n",
      "['.---', '.....', '...-', '-.'] vs ['.---.....', '...-', '-.']\n",
      "['.--.', '-', ' '] vs ['.--.-']\n",
      "['.--.-.', '.-', '-....-', '.--.'] vs ['.--.-.', '.-', '-....-', '.--.']\n",
      "['.--', '-..', '.----', '-...'] vs ['.--', '-..', '..---', '-...']\n",
      "['-...', '--...', '.-.', '--'] vs ['-...', '--...', '.-.', '--']\n",
      "[' ', '..---', '..---', '-....'] vs ['', '..---', '..----....']\n",
      "['..', ' ', '..---..', '....-'] vs ['..', ' ', '..---..', '....-']\n",
      "['-....-', '-....-', '...--', '--'] vs ['-....-', '-....-', '...--', '--']\n"
     ]
    },
    {
     "data": {
      "text/plain": "0.647"
     },
     "execution_count": 191,
     "metadata": {},
     "output_type": "execute_result"
    }
   ],
   "source": [
    "predicted_timings = predicted2timings(test[:1000], predicted_marks, predicted_spaces)\n",
    "predicted_timings = [timings2dashdots(t)[1] for t in predicted_timings]\n",
    "correct = score_timing_sets(test[:1000], predicted_timings)\n",
    "accuracy = np.mean(correct)\n",
    "accuracy"
   ],
   "metadata": {
    "collapsed": false,
    "ExecuteTime": {
     "end_time": "2024-03-12T17:00:59.662397798Z",
     "start_time": "2024-03-12T17:00:59.031129707Z"
    }
   },
   "id": "2eafc6af6bfce010"
  },
  {
   "cell_type": "code",
   "execution_count": 192,
   "outputs": [],
   "source": [
    "# save_timings(sys.stdout, predicted_timings[2], \"PREDICT\")\n",
    "# print(\"----------------------------\")\n",
    "# save_timings(sys.stdout, test[2], \"TEST\")"
   ],
   "metadata": {
    "collapsed": false,
    "ExecuteTime": {
     "end_time": "2024-03-12T17:01:11.738935219Z",
     "start_time": "2024-03-12T17:01:11.698898925Z"
    }
   },
   "id": "595d6d24edbe27a7"
  },
  {
   "cell_type": "code",
   "execution_count": 200,
   "outputs": [
    {
     "data": {
      "text/plain": "[0, 0, 0, 0, 1, 0, 0, 0, 0, 0]"
     },
     "execution_count": 200,
     "metadata": {},
     "output_type": "execute_result"
    }
   ],
   "source": [],
   "metadata": {
    "collapsed": false,
    "ExecuteTime": {
     "end_time": "2024-03-12T17:05:13.076692696Z",
     "start_time": "2024-03-12T17:05:13.020110618Z"
    }
   },
   "id": "85f323f5a1174467"
  },
  {
   "cell_type": "code",
   "execution_count": 207,
   "outputs": [
    {
     "data": {
      "text/plain": "(0.016502834182392193, 0.027900560193030888)"
     },
     "execution_count": 207,
     "metadata": {},
     "output_type": "execute_result"
    }
   ],
   "source": [
    "np.mean(predicted_spaces == 2), np.mean(np.array(labels_spaces, dtype=int) == 2)"
   ],
   "metadata": {
    "collapsed": false,
    "ExecuteTime": {
     "end_time": "2024-03-12T17:06:31.547945673Z",
     "start_time": "2024-03-12T17:06:31.416126620Z"
    }
   },
   "id": "e3da862ba347d426"
  },
  {
   "cell_type": "code",
   "execution_count": 11,
   "outputs": [],
   "source": [
    "marks_sum = 0\n",
    "spaces_sum = 0\n",
    "for timings in test:\n",
    "    mark_durations, mark_labels = prep_data([timings], True)\n",
    "    space_durations, space_labels = prep_data([timings], False)\n",
    "    predicted_marks = rf_marks.predict(mark_durations)\n",
    "    predicted_spaces = rf_spaces.predict(space_durations)\n",
    "    if predicted_marks[-1] == mark_labels[-1]:\n",
    "        marks_sum += 1\n",
    "    if predicted_spaces[-1] == space_labels[-1]:\n",
    "        spaces_sum += 1\n",
    "print(\"Character\")"
   ],
   "metadata": {
    "collapsed": false,
    "ExecuteTime": {
     "end_time": "2024-03-12T02:49:31.093506330Z",
     "start_time": "2024-03-12T02:49:31.068738556Z"
    }
   },
   "id": "ef1bfa404aa1f613"
  }
 ],
 "metadata": {
  "kernelspec": {
   "display_name": "Python 3",
   "language": "python",
   "name": "python3"
  },
  "language_info": {
   "codemirror_mode": {
    "name": "ipython",
    "version": 2
   },
   "file_extension": ".py",
   "mimetype": "text/x-python",
   "name": "python",
   "nbconvert_exporter": "python",
   "pygments_lexer": "ipython2",
   "version": "2.7.6"
  }
 },
 "nbformat": 4,
 "nbformat_minor": 5
}
