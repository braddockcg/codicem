{
 "cells": [
  {
   "cell_type": "code",
   "execution_count": 1,
   "id": "initial_id",
   "metadata": {
    "collapsed": true,
    "ExecuteTime": {
     "end_time": "2024-03-09T17:35:01.521206024Z",
     "start_time": "2024-03-09T17:35:01.449267697Z"
    }
   },
   "outputs": [],
   "source": [
    "import codicem\n",
    "from codicem.timings_type import *\n"
   ]
  },
  {
   "cell_type": "code",
   "execution_count": 2,
   "outputs": [],
   "source": [
    "paris = plaintext2training(\"PARIS\")"
   ],
   "metadata": {
    "collapsed": false,
    "ExecuteTime": {
     "end_time": "2024-03-09T17:35:01.521522239Z",
     "start_time": "2024-03-09T17:35:01.449496942Z"
    }
   },
   "id": "ce65007818ab55ae"
  },
  {
   "cell_type": "code",
   "execution_count": 3,
   "outputs": [
    {
     "data": {
      "text/plain": "(1.5714285714285714, 1.7142857142857142)"
     },
     "execution_count": 3,
     "metadata": {},
     "output_type": "execute_result"
    }
   ],
   "source": [
    "average_mark_length(paris), average_space_length(paris)\n"
   ],
   "metadata": {
    "collapsed": false,
    "ExecuteTime": {
     "end_time": "2024-03-09T17:35:01.521894408Z",
     "start_time": "2024-03-09T17:35:01.450434580Z"
    }
   },
   "id": "994c3df5ba2f8b8b"
  },
  {
   "cell_type": "code",
   "execution_count": 4,
   "outputs": [
    {
     "data": {
      "text/plain": "(145.05494505494508, 158.24175824175822)"
     },
     "execution_count": 4,
     "metadata": {},
     "output_type": "execute_result"
    }
   ],
   "source": [
    "paris13 = scale_timings(paris, 13)\n",
    "average_mark_length(paris13), average_space_length(paris13)"
   ],
   "metadata": {
    "collapsed": false,
    "ExecuteTime": {
     "end_time": "2024-03-09T17:35:01.522203156Z",
     "start_time": "2024-03-09T17:35:01.460392461Z"
    }
   },
   "id": "b55148c5c97b8f61"
  },
  {
   "cell_type": "code",
   "execution_count": 5,
   "outputs": [
    {
     "data": {
      "text/plain": "(1.5714285714285712, 158.24175824175822)"
     },
     "execution_count": 5,
     "metadata": {},
     "output_type": "execute_result"
    }
   ],
   "source": [
    "paris13_marks = normalize_marks(paris13)\n",
    "average_mark_length(paris13_marks), average_space_length(paris13_marks)\n"
   ],
   "metadata": {
    "collapsed": false,
    "ExecuteTime": {
     "end_time": "2024-03-09T17:35:01.522444733Z",
     "start_time": "2024-03-09T17:35:01.466153046Z"
    }
   },
   "id": "1511169367752202"
  },
  {
   "cell_type": "code",
   "execution_count": 6,
   "outputs": [
    {
     "data": {
      "text/plain": "(145.05494505494508, 1.7142857142857142)"
     },
     "execution_count": 6,
     "metadata": {},
     "output_type": "execute_result"
    }
   ],
   "source": [
    "paris13_spaces = normalize_spaces(paris13)\n",
    "average_mark_length(paris13_spaces), average_space_length(paris13_spaces)"
   ],
   "metadata": {
    "collapsed": false,
    "ExecuteTime": {
     "end_time": "2024-03-09T17:35:01.522677807Z",
     "start_time": "2024-03-09T17:35:01.472606965Z"
    }
   },
   "id": "bfa2824ef2a2fa8"
  },
  {
   "cell_type": "code",
   "execution_count": 7,
   "outputs": [
    {
     "data": {
      "text/plain": "(1.5714285714285712, 1.7142857142857142)"
     },
     "execution_count": 7,
     "metadata": {},
     "output_type": "execute_result"
    }
   ],
   "source": [
    "paris13_norm = normalize_timings(paris13)\n",
    "average_mark_length(paris13_norm), average_space_length(paris13_norm)\n"
   ],
   "metadata": {
    "collapsed": false,
    "ExecuteTime": {
     "end_time": "2024-03-09T17:35:01.522985216Z",
     "start_time": "2024-03-09T17:35:01.477881385Z"
    }
   },
   "id": "9a05d878779d2357"
  },
  {
   "cell_type": "code",
   "execution_count": 8,
   "outputs": [
    {
     "data": {
      "text/plain": "[[ON 0.9999999999999999, '~'],\n [OFF 1.0, '~'],\n [ON 2.9999999999999996, '~'],\n [OFF 1.0, '~'],\n [ON 2.9999999999999996, '~'],\n [OFF 1.0, '~'],\n [ON 0.9999999999999999, '~'],\n [OFF 3.0, 'P'],\n [ON 0.9999999999999999, '~'],\n [OFF 1.0, '~'],\n [ON 2.9999999999999996, '~'],\n [OFF 3.0, 'A'],\n [ON 0.9999999999999999, '~'],\n [OFF 1.0, '~'],\n [ON 2.9999999999999996, '~'],\n [OFF 1.0, '~'],\n [ON 0.9999999999999999, '~'],\n [OFF 3.0, 'R'],\n [ON 0.9999999999999999, '~'],\n [OFF 1.0, '~'],\n [ON 0.9999999999999999, '~'],\n [OFF 3.0, 'I'],\n [ON 0.9999999999999999, '~'],\n [OFF 1.0, '~'],\n [ON 0.9999999999999999, '~'],\n [OFF 1.0, '~'],\n [ON 0.9999999999999999, '~'],\n [OFF 3.0, 'S']]"
     },
     "execution_count": 8,
     "metadata": {},
     "output_type": "execute_result"
    }
   ],
   "source": [
    "paris13_norm"
   ],
   "metadata": {
    "collapsed": false,
    "ExecuteTime": {
     "end_time": "2024-03-09T17:35:01.549087640Z",
     "start_time": "2024-03-09T17:35:01.484629121Z"
    }
   },
   "id": "1b2c89943e964652"
  },
  {
   "cell_type": "code",
   "execution_count": 8,
   "outputs": [],
   "source": [],
   "metadata": {
    "collapsed": false,
    "ExecuteTime": {
     "end_time": "2024-03-09T17:35:01.549278564Z",
     "start_time": "2024-03-09T17:35:01.529523081Z"
    }
   },
   "id": "c0447a15db31fb22"
  },
  {
   "cell_type": "code",
   "execution_count": 9,
   "outputs": [
    {
     "data": {
      "text/plain": "(1.5714285714285727, 1.714285714285713)"
     },
     "execution_count": 9,
     "metadata": {},
     "output_type": "execute_result"
    }
   ],
   "source": [
    "braddock = plaintext2training(\"BRADDOCK GASKILL\")\n",
    "braddock_norm = normalize_timings(braddock)\n",
    "average_mark_length(braddock_norm), average_space_length(braddock_norm)"
   ],
   "metadata": {
    "collapsed": false,
    "ExecuteTime": {
     "end_time": "2024-03-09T17:35:01.549530248Z",
     "start_time": "2024-03-09T17:35:01.529713913Z"
    }
   },
   "id": "6871de6dfe54f858"
  },
  {
   "cell_type": "code",
   "execution_count": 10,
   "outputs": [
    {
     "data": {
      "text/plain": "[[ON 2.5816326530612246, '~'],\n [OFF 0.9857142857142857, '~'],\n [ON 0.8605442176870749, '~'],\n [OFF 0.9857142857142857, '~'],\n [ON 0.8605442176870749, '~'],\n [OFF 0.9857142857142857, '~'],\n [ON 0.8605442176870749, '~'],\n [OFF 2.957142857142857, 'B'],\n [ON 0.8605442176870749, '~'],\n [OFF 0.9857142857142857, '~'],\n [ON 2.5816326530612246, '~'],\n [OFF 0.9857142857142857, '~'],\n [ON 0.8605442176870749, '~'],\n [OFF 2.957142857142857, 'R'],\n [ON 0.8605442176870749, '~'],\n [OFF 0.9857142857142857, '~'],\n [ON 2.5816326530612246, '~'],\n [OFF 2.957142857142857, 'A'],\n [ON 2.5816326530612246, '~'],\n [OFF 0.9857142857142857, '~'],\n [ON 0.8605442176870749, '~'],\n [OFF 0.9857142857142857, '~'],\n [ON 0.8605442176870749, '~'],\n [OFF 2.957142857142857, 'D'],\n [ON 2.5816326530612246, '~'],\n [OFF 0.9857142857142857, '~'],\n [ON 0.8605442176870749, '~'],\n [OFF 0.9857142857142857, '~'],\n [ON 0.8605442176870749, '~'],\n [OFF 2.957142857142857, 'D'],\n [ON 2.5816326530612246, '~'],\n [OFF 0.9857142857142857, '~'],\n [ON 2.5816326530612246, '~'],\n [OFF 0.9857142857142857, '~'],\n [ON 2.5816326530612246, '~'],\n [OFF 2.957142857142857, 'O'],\n [ON 2.5816326530612246, '~'],\n [OFF 0.9857142857142857, '~'],\n [ON 0.8605442176870749, '~'],\n [OFF 0.9857142857142857, '~'],\n [ON 2.5816326530612246, '~'],\n [OFF 0.9857142857142857, '~'],\n [ON 0.8605442176870749, '~'],\n [OFF 2.957142857142857, 'C'],\n [ON 2.5816326530612246, '~'],\n [OFF 0.9857142857142857, '~'],\n [ON 0.8605442176870749, '~'],\n [OFF 0.9857142857142857, '~'],\n [ON 2.5816326530612246, '~'],\n [OFF 6.8999999999999995, 'K '],\n [ON 2.5816326530612246, '~'],\n [OFF 0.9857142857142857, '~'],\n [ON 2.5816326530612246, '~'],\n [OFF 0.9857142857142857, '~'],\n [ON 0.8605442176870749, '~'],\n [OFF 2.957142857142857, 'G'],\n [ON 0.8605442176870749, '~'],\n [OFF 0.9857142857142857, '~'],\n [ON 2.5816326530612246, '~'],\n [OFF 2.957142857142857, 'A'],\n [ON 0.8605442176870749, '~'],\n [OFF 0.9857142857142857, '~'],\n [ON 0.8605442176870749, '~'],\n [OFF 0.9857142857142857, '~'],\n [ON 0.8605442176870749, '~'],\n [OFF 2.957142857142857, 'S'],\n [ON 2.5816326530612246, '~'],\n [OFF 0.9857142857142857, '~'],\n [ON 0.8605442176870749, '~'],\n [OFF 0.9857142857142857, '~'],\n [ON 2.5816326530612246, '~'],\n [OFF 2.957142857142857, 'K'],\n [ON 0.8605442176870749, '~'],\n [OFF 0.9857142857142857, '~'],\n [ON 0.8605442176870749, '~'],\n [OFF 2.957142857142857, 'I'],\n [ON 0.8605442176870749, '~'],\n [OFF 0.9857142857142857, '~'],\n [ON 2.5816326530612246, '~'],\n [OFF 0.9857142857142857, '~'],\n [ON 0.8605442176870749, '~'],\n [OFF 0.9857142857142857, '~'],\n [ON 0.8605442176870749, '~'],\n [OFF 2.957142857142857, 'L'],\n [ON 0.8605442176870749, '~'],\n [OFF 0.9857142857142857, '~'],\n [ON 2.5816326530612246, '~'],\n [OFF 0.9857142857142857, '~'],\n [ON 0.8605442176870749, '~'],\n [OFF 0.9857142857142857, '~'],\n [ON 0.8605442176870749, '~'],\n [OFF 2.957142857142857, 'L']]"
     },
     "execution_count": 10,
     "metadata": {},
     "output_type": "execute_result"
    }
   ],
   "source": [
    "braddock_norm"
   ],
   "metadata": {
    "collapsed": false,
    "ExecuteTime": {
     "end_time": "2024-03-09T17:35:01.549923232Z",
     "start_time": "2024-03-09T17:35:01.529881855Z"
    }
   },
   "id": "ccf545accc1fa6bd"
  },
  {
   "cell_type": "code",
   "execution_count": 12,
   "outputs": [
    {
     "data": {
      "text/plain": "[[ON 119.99999999999999, '~'],\n [OFF 120.0, '~'],\n [ON 359.99999999999994, '~'],\n [OFF 120.0, '~'],\n [ON 359.99999999999994, '~'],\n [OFF 120.0, '~'],\n [ON 119.99999999999999, '~'],\n [OFF 360.0, 'P'],\n [ON 119.99999999999999, '~'],\n [OFF 120.0, '~'],\n [ON 359.99999999999994, '~'],\n [OFF 360.0, 'A'],\n [ON 119.99999999999999, '~'],\n [OFF 120.0, '~'],\n [ON 359.99999999999994, '~'],\n [OFF 120.0, '~'],\n [ON 119.99999999999999, '~'],\n [OFF 360.0, 'R'],\n [ON 119.99999999999999, '~'],\n [OFF 120.0, '~'],\n [ON 119.99999999999999, '~'],\n [OFF 360.0, 'I'],\n [ON 119.99999999999999, '~'],\n [OFF 120.0, '~'],\n [ON 119.99999999999999, '~'],\n [OFF 120.0, '~'],\n [ON 119.99999999999999, '~'],\n [OFF 360.0, 'S']]"
     },
     "execution_count": 12,
     "metadata": {},
     "output_type": "execute_result"
    }
   ],
   "source": [
    "scale_timings(paris13, 10)"
   ],
   "metadata": {
    "collapsed": false,
    "ExecuteTime": {
     "end_time": "2024-03-09T17:35:12.302687422Z",
     "start_time": "2024-03-09T17:35:12.288375423Z"
    }
   },
   "id": "6c7570062e17585c"
  },
  {
   "cell_type": "code",
   "execution_count": 13,
   "outputs": [],
   "source": [],
   "metadata": {
    "collapsed": false,
    "ExecuteTime": {
     "end_time": "2024-03-09T17:35:28.346435330Z",
     "start_time": "2024-03-09T17:35:28.328971368Z"
    }
   },
   "id": "50cec1dc5a436154"
  },
  {
   "cell_type": "code",
   "execution_count": 14,
   "outputs": [
    {
     "data": {
      "text/plain": "28"
     },
     "execution_count": 14,
     "metadata": {},
     "output_type": "execute_result"
    }
   ],
   "source": [
    "len(paris)"
   ],
   "metadata": {
    "collapsed": false,
    "ExecuteTime": {
     "end_time": "2024-03-09T17:37:18.765702240Z",
     "start_time": "2024-03-09T17:37:18.722716748Z"
    }
   },
   "id": "5543e34c61735e90"
  },
  {
   "cell_type": "code",
   "execution_count": null,
   "outputs": [],
   "source": [],
   "metadata": {
    "collapsed": false
   },
   "id": "a48216393a3c6551"
  }
 ],
 "metadata": {
  "kernelspec": {
   "display_name": "Python 3",
   "language": "python",
   "name": "python3"
  },
  "language_info": {
   "codemirror_mode": {
    "name": "ipython",
    "version": 2
   },
   "file_extension": ".py",
   "mimetype": "text/x-python",
   "name": "python",
   "nbconvert_exporter": "python",
   "pygments_lexer": "ipython2",
   "version": "2.7.6"
  }
 },
 "nbformat": 4,
 "nbformat_minor": 5
}
