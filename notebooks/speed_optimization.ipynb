{
 "cells": [
  {
   "cell_type": "code",
   "execution_count": 3,
   "id": "initial_id",
   "metadata": {
    "collapsed": true,
    "ExecuteTime": {
     "end_time": "2024-03-17T15:42:57.754862934Z",
     "start_time": "2024-03-17T15:42:56.673525948Z"
    }
   },
   "outputs": [],
   "source": [
    "import numpy as np\n",
    "import joblib\n",
    "from typing import List, Tuple\n",
    "from copy import copy, deepcopy\n",
    "import sys\n",
    "\n",
    "from codicem.timings_type import *\n",
    "from codicem.util import *\n",
    "from codicem.experiment import *\n"
   ]
  },
  {
   "cell_type": "code",
   "execution_count": 4,
   "outputs": [
    {
     "data": {
      "text/plain": "2000"
     },
     "execution_count": 4,
     "metadata": {},
     "output_type": "execute_result"
    }
   ],
   "source": [
    "test, _ = load_timings_set(\"/home/braddock/expire/morse/new-test\")\n",
    "len(test)"
   ],
   "metadata": {
    "collapsed": false,
    "ExecuteTime": {
     "end_time": "2024-03-17T15:44:04.258529181Z",
     "start_time": "2024-03-17T15:44:04.155571875Z"
    }
   },
   "id": "a59c0f90a90618c7"
  },
  {
   "cell_type": "code",
   "execution_count": 7,
   "outputs": [
    {
     "name": "stdout",
     "output_type": "stream",
     "text": [
      "Timed test\n",
      "Timed test\n",
      "Timed test\n",
      "Timed test\n",
      "Timed test\n",
      "Timed test\n",
      "Timed test\n",
      "Timed test\n",
      "150 ms ± 9.82 ms per loop (mean ± std. dev. of 7 runs, 1 loop each)\n"
     ]
    }
   ],
   "source": [
    "def timed_test():\n",
    "    for timings in test:\n",
    "        normalize(\n",
    "            timings,\n",
    "            num_steps = 24,\n",
    "            min_mark = 0.1,\n",
    "            max_mark = 6.0,\n",
    "            min_space = 0.1,\n",
    "            max_space = 6.0,\n",
    "        )\n",
    "            \n",
    "%timeit timed_test()"
   ],
   "metadata": {
    "collapsed": false,
    "ExecuteTime": {
     "end_time": "2024-03-17T15:47:59.858813199Z",
     "start_time": "2024-03-17T15:47:58.661342403Z"
    }
   },
   "id": "508ee38b173c82f3"
  },
  {
   "cell_type": "code",
   "execution_count": null,
   "outputs": [],
   "source": [],
   "metadata": {
    "collapsed": false
   },
   "id": "1b896167cd3aef84"
  }
 ],
 "metadata": {
  "kernelspec": {
   "display_name": "Python 3",
   "language": "python",
   "name": "python3"
  },
  "language_info": {
   "codemirror_mode": {
    "name": "ipython",
    "version": 2
   },
   "file_extension": ".py",
   "mimetype": "text/x-python",
   "name": "python",
   "nbconvert_exporter": "python",
   "pygments_lexer": "ipython2",
   "version": "2.7.6"
  }
 },
 "nbformat": 4,
 "nbformat_minor": 5
}
